{
 "cells": [
  {
   "cell_type": "code",
   "execution_count": 1,
   "metadata": {},
   "outputs": [],
   "source": [
    "import os\n",
    "import gzip\n",
    "import sqlite3\n",
    "from sqlite3 import Error\n",
    "import pandas as pd\n",
    "from collections import OrderedDict\n",
    "\n",
    "from Bio import SeqIO \n",
    "from Bio.SeqRecord import SeqRecord\n",
    "from Bio.Seq import Seq\n",
    "\n",
    "import zlib"
   ]
  },
  {
   "cell_type": "markdown",
   "metadata": {},
   "source": [
    "# SQNce Creation Functions"
   ]
  },
  {
   "cell_type": "code",
   "execution_count": 9,
   "metadata": {},
   "outputs": [],
   "source": [
    "# TODO add documentation to all SQNce creation functions\n",
    "\n",
    "# Establish connection with SQNce.db, generating a new SQLite3 database if needed\n",
    "def sql_connection():\n",
    "    try:\n",
    "        con = sqlite3.connect('SQNce.db')\n",
    "        print(\"Connection established.\")\n",
    "        return(con)\n",
    "    except Error:\n",
    "        print(Error)\n",
    "\n",
    "# After establishing connection with SQNce create the specified tables\n",
    "def sql_table(con):\n",
    "    cursorObj = con.cursor()\n",
    "    cursorObj.execute(\"\"\"CREATE TABLE IF NOT EXISTS species(\n",
    "                         species_name text PRIMARY KEY, \n",
    "                         common_name text) \n",
    "                         WITHOUT ROWID\"\"\")\n",
    "    \n",
    "    cursorObj.execute(\"\"\"CREATE TABLE IF NOT EXISTS genotypes(\n",
    "                         genotype_id text PRIMARY KEY, \n",
    "                         species_name text, \n",
    "                         genotype_name text,\n",
    "                         FOREIGN KEY (species_name) REFERENCES species(species_name)) \n",
    "                         WITHOUT ROWID\"\"\")\n",
    "\n",
    "    cursorObj.execute(\"\"\"CREATE TABLE IF NOT EXISTS protein_seqs(\n",
    "                         protein_variant text PRIMARY KEY,\n",
    "                         protein_id text,\n",
    "                         genotype_id text,\n",
    "                         protein_length text,\n",
    "                         protein_sequence blob,\n",
    "                         FOREIGN KEY (genotype_id) REFERENCES genotypes(genotype_id)) \n",
    "                         WITHOUT ROWID\"\"\")\n",
    "    \n",
    "    cursorObj.execute(\"\"\"CREATE TABLE IF NOT EXISTS gene_annotations(\n",
    "                         gene_id text PRIMARY KEY,\n",
    "                         gene_species text,\n",
    "                         gene_genotype text,\n",
    "                         annotation_source text,\n",
    "                         gene_annotation text,\n",
    "                         FOREIGN KEY (gene_genotype) REFERENCES genotypes(genotype_id)) \n",
    "                         WITHOUT ROWID\"\"\")\n",
    "    \n",
    "    \n",
    "    con.commit()"
   ]
  },
  {
   "cell_type": "code",
   "execution_count": 17,
   "metadata": {},
   "outputs": [
    {
     "name": "stdout",
     "output_type": "stream",
     "text": [
      "Connection established.\n"
     ]
    }
   ],
   "source": [
    "# Current implementation requires re-parsing of all the input files to create SQNce\n",
    "# TODO SQNce update functions to parse input data only if not previously included \n",
    "\n",
    "if os.path.exists(\"SQNce.db\"): os.remove(\"SQNce.db\")\n",
    "con = sql_connection()\n",
    "sql_table(con)"
   ]
  },
  {
   "cell_type": "markdown",
   "metadata": {},
   "source": [
    "# SQNce Data Input Functions"
   ]
  },
  {
   "cell_type": "code",
   "execution_count": 11,
   "metadata": {},
   "outputs": [],
   "source": [
    "# TODO add documentation to all SQNce Data Input Functions\n",
    "\n",
    "def species_insert(con, entities):\n",
    "    cursorObj = con.cursor()\n",
    "    cursorObj.execute(\"\"\"INSERT INTO species(\n",
    "                         species_name, common_name) \n",
    "                         VALUES(?, ?)\"\"\", entities)\n",
    "    con.commit()\n",
    "    \n",
    "def genotype_insert(con, entities):\n",
    "    cursorObj = con.cursor()\n",
    "    cursorObj.execute(\"\"\"INSERT INTO genotypes(\n",
    "                         genotype_id, \n",
    "                         species_name, \n",
    "                         genotype_name) \n",
    "                         VALUES(?, ?, ?)\"\"\", entities)\n",
    "    con.commit()\n",
    "\n",
    "# https://stackoverflow.com/questions/18219779/bulk-insert-huge-data-into-sqlite-using-python\n",
    "def protein_seq_insert(con, entity_list):\n",
    "    cursorObj = con.cursor()\n",
    "    cursorObj.executemany(\"\"\"INSERT INTO protein_seqs(\n",
    "                         protein_variant, \n",
    "                         protein_id, \n",
    "                         genotype_id, \n",
    "                         protein_length,  \n",
    "                         protein_sequence) \n",
    "                         VALUES(?, ?, ?, ?, ?)\"\"\", entity_list)\n",
    "    con.commit()\n",
    "    \n",
    "def gene_annotation_insert(con, entity_list):\n",
    "    cursorObj = con.cursor()\n",
    "    cursorObj.executemany(\"\"\"INSERT INTO gene_annotations(\n",
    "                         gene_id,\n",
    "                         gene_species,\n",
    "                         gene_genotype,\n",
    "                         annotation_source,\n",
    "                         gene_annotation) \n",
    "                         VALUES(?, ?, ?, ?, ?)\"\"\", entity_list)\n",
    "    con.commit()"
   ]
  },
  {
   "cell_type": "code",
   "execution_count": null,
   "metadata": {},
   "outputs": [],
   "source": [
    "# SQNce database is initiated using predifined TSV files\n",
    "# TSV either contain the input data or reference input files to parse\n",
    "# TODO add documentation to SQNce data input parsing\n",
    "\n",
    "df = pd.read_csv(\"init/species.tsv\", sep=\"\\t\")\n",
    "for index, row in df.iterrows():\n",
    "    species_insert(con, entities=list(row))\n",
    "\n",
    "df = pd.read_csv(\"init/genotypes.tsv\", sep=\"\\t\")\n",
    "for index, row in df.iterrows():\n",
    "    genotype_insert(con, entities=list(row))\n",
    "\n",
    "df = pd.read_csv(\"init/fasta_list.tsv\", sep=\"\\t\")\n",
    "for index, row in df.iterrows():\n",
    "    fasta_file = gzip.open(\"/files/longest/\"+row[2], mode='rt')\n",
    "    protein_seq_list = []\n",
    "    for seq in SeqIO.parse(fasta_file, \"fasta\"):\n",
    "        # TODO change db to number key to avoid duplicated name problems\n",
    "        if row[0] == \"ZmB73v3\": \n",
    "            seq.id = seq.id + \"v3\"\n",
    "        # Protein sequences are saved as as a Binary data type for compression\n",
    "        protein_seq_list.append([seq.id, seq.id.split(\"_\")[0], row[0], len(seq.seq), \n",
    "                                 sqlite3.Binary(zlib.compress(str(seq.seq).encode('utf-8')))])\n",
    "    protein_seq_insert(con, protein_seq_list)\n",
    "    \n",
    "################## Not yet tested ##################\n",
    "df = pd.read_csv(\"init/annotation_list.tsv\", sep=\"\\t\")\n",
    "# Every element is: gene_id, gene_species, gene_genotype, gene_annotation, annotation_source\n",
    "gene_annotation_list = []\n",
    "for index, row in df.iterrows():\n",
    "    annot = pd.read_csv(\"inputs/\"+row[3], sep=\"\\t\")\n",
    "    annot = annot.drop_duplicates(subset=\"locusName\")\n",
    "    annot = annot[[\"locusName\", \"arabi-defline\"]]\n",
    "    annot.insert(1, 'species', row[0])\n",
    "    annot.insert(2, 'genotype', row[1])\n",
    "    annot.insert(3, 'source', row[2])\n",
    "    gene_annotation_insert(con, test.values.tolist())"
   ]
  },
  {
   "cell_type": "code",
   "execution_count": 18,
   "metadata": {},
   "outputs": [],
   "source": [
    "################## Not yet tested ##################\n",
    "df = pd.read_csv(\"init/annotation_list.tsv\", sep=\"\\t\")\n",
    "# Every element is: gene_id, gene_species, gene_genotype, gene_annotation, annotation_source\n",
    "gene_annotation_list = []\n",
    "for index, row in df.iterrows():\n",
    "    annot = pd.read_csv(\"inputs/\"+row[3], sep=\"\\t\")\n",
    "    annot = annot.drop_duplicates(subset=\"locusName\")\n",
    "    if row[0]==\"Arabidopsis thaliana\":\n",
    "        annot = annot[[\"locusName\", \"rice-defline\"]]\n",
    "    else:\n",
    "        annot = annot[[\"locusName\", \"arabi-defline\"]]\n",
    "    annot.insert(1, 'species', row[0])\n",
    "    annot.insert(2, 'genotype', row[1])\n",
    "    annot.insert(3, 'source', row[2])\n",
    "    gene_annotation_insert(con, annot.values.tolist())"
   ]
  },
  {
   "cell_type": "markdown",
   "metadata": {},
   "source": [
    "# SQNce Query Functions"
   ]
  },
  {
   "cell_type": "code",
   "execution_count": null,
   "metadata": {},
   "outputs": [],
   "source": [
    "# TODO add documentation to SQNce queries\n",
    "\n",
    "def protein_seq_select(con, entity_list):\n",
    "    od = OrderedDict()\n",
    "    for entity in entity_list:\n",
    "        cursorObj = con.cursor()\n",
    "        cursorObj.execute('''SELECT protein_variant, gene_annotation \n",
    "                             FROM protein_seqs \n",
    "                             WHERE protein_variant =  ?  ''', (entity,))\n",
    "        # (name,) - need the comma to treat it as a single item and not list of letters\n",
    "        selected = cursorObj.fetchall()[0]\n",
    "        record = SeqRecord(Seq(zlib.decompress(selected[1]).decode(encoding='UTF-8')), \n",
    "                           id=selected[0], name=\"\", description=\"\")\n",
    "        od[selected[0]] = record\n",
    "        with open(\"selected.fasta\", 'w') as handle:\n",
    "            SeqIO.write(od.values(), handle, 'fasta')"
   ]
  },
  {
   "cell_type": "code",
   "execution_count": 32,
   "metadata": {},
   "outputs": [
    {
     "data": {
      "text/plain": [
       "OrderedDict([('Zm00001d010294',\n",
       "              'Ubiquitin-associated/translation elongation factor EF1B protein'),\n",
       "             ('Sobic.002G128101', 'protein kinase family protein'),\n",
       "             ('AT2G34360', 'MATE efflux family protein, putative, expressed')])"
      ]
     },
     "execution_count": 32,
     "metadata": {},
     "output_type": "execute_result"
    }
   ],
   "source": [
    "def annotation_select(con, entity_list):\n",
    "    od = OrderedDict()\n",
    "    for entity in entity_list:\n",
    "        cursorObj = con.cursor()\n",
    "        cursorObj.execute('''SELECT gene_id, gene_annotation \n",
    "                             FROM gene_annotations \n",
    "                             WHERE gene_id =  ?  ''', (entity,))\n",
    "        # (name,) - need the comma to treat it as a single item and not list of letters\n",
    "        selected = cursorObj.fetchall()[0]\n",
    "        od[selected[0]] = selected[1]\n",
    "    return(od)\n",
    "\n",
    "con = sqlite3.connect('SQNce.db')\n",
    "\n",
    "pd.DataFrame.from_dict(annotation_select(con, [\"Zm00001d010294\", \"Sobic.002G128101\", \"AT2G34360\"]), \n",
    "                       orient=\"index\", columns=[\"annotation\"])\n"
   ]
  },
  {
   "cell_type": "code",
   "execution_count": 35,
   "metadata": {},
   "outputs": [
    {
     "data": {
      "text/plain": [
       "'Ubiquitin-associated/translation elongation factor EF1B protein'"
      ]
     },
     "execution_count": 35,
     "metadata": {},
     "output_type": "execute_result"
    }
   ],
   "source": [
    "annotation_select(con, [\"Zm00001d010294\", \"Sobic.002G128101\", \"AT2G34360\"])"
   ]
  },
  {
   "cell_type": "code",
   "execution_count": 47,
   "metadata": {},
   "outputs": [
    {
     "data": {
      "text/html": [
       "<div>\n",
       "<style scoped>\n",
       "    .dataframe tbody tr th:only-of-type {\n",
       "        vertical-align: middle;\n",
       "    }\n",
       "\n",
       "    .dataframe tbody tr th {\n",
       "        vertical-align: top;\n",
       "    }\n",
       "\n",
       "    .dataframe thead th {\n",
       "        text-align: right;\n",
       "    }\n",
       "</style>\n",
       "<table border=\"1\" class=\"dataframe\">\n",
       "  <thead>\n",
       "    <tr style=\"text-align: right;\">\n",
       "      <th></th>\n",
       "      <th>GeneID</th>\n",
       "      <th>annotation</th>\n",
       "    </tr>\n",
       "  </thead>\n",
       "  <tbody>\n",
       "    <tr>\n",
       "      <th>0</th>\n",
       "      <td>Zm00001d010294</td>\n",
       "      <td>Ubiquitin-associated/translation elongation fa...</td>\n",
       "    </tr>\n",
       "    <tr>\n",
       "      <th>1</th>\n",
       "      <td>Sobic.002G128101</td>\n",
       "      <td>protein kinase family protein</td>\n",
       "    </tr>\n",
       "    <tr>\n",
       "      <th>2</th>\n",
       "      <td>AT2G34360</td>\n",
       "      <td>MATE efflux family protein, putative, expressed</td>\n",
       "    </tr>\n",
       "  </tbody>\n",
       "</table>\n",
       "</div>"
      ],
      "text/plain": [
       "             GeneID                                         annotation\n",
       "0    Zm00001d010294  Ubiquitin-associated/translation elongation fa...\n",
       "1  Sobic.002G128101                      protein kinase family protein\n",
       "2         AT2G34360    MATE efflux family protein, putative, expressed"
      ]
     },
     "execution_count": 47,
     "metadata": {},
     "output_type": "execute_result"
    }
   ],
   "source": [
    "test = pd.DataFrame.from_dict(annotation_select(con, [\"Zm00001d010294\", \"Sobic.002G128101\", \"AT2G34360\"]), \n",
    "                              orient=\"index\").reset_index()\n",
    "test.columns = [\"GeneID\", \"annotation\"]\n",
    "test "
   ]
  },
  {
   "cell_type": "markdown",
   "metadata": {},
   "source": [
    "# Example Queries"
   ]
  },
  {
   "cell_type": "code",
   "execution_count": null,
   "metadata": {},
   "outputs": [],
   "source": [
    "con = sqlite3.connect('SQNce.db')\n",
    "# Use the above query functions to parse SQNce with your gene lists \n",
    "input_value = [your_gene_list]\n",
    "protein_seq_select(con, input_value)\n",
    "con.close()"
   ]
  }
 ],
 "metadata": {
  "kernelspec": {
   "display_name": "Python 3",
   "language": "python",
   "name": "python3"
  },
  "language_info": {
   "codemirror_mode": {
    "name": "ipython",
    "version": 3
   },
   "file_extension": ".py",
   "mimetype": "text/x-python",
   "name": "python",
   "nbconvert_exporter": "python",
   "pygments_lexer": "ipython3",
   "version": "3.8.2"
  }
 },
 "nbformat": 4,
 "nbformat_minor": 5
}
