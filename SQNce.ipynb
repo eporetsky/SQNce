{
 "cells": [
  {
   "cell_type": "code",
   "execution_count": null,
   "id": "upper-watson",
   "metadata": {},
   "outputs": [],
   "source": [
    "import os\n",
    "import gzip\n",
    "import sqlite3\n",
    "from sqlite3 import Error\n",
    "import pandas as pd\n",
    "from collections import OrderedDict\n",
    "\n",
    "from Bio import SeqIO \n",
    "from Bio.SeqRecord import SeqRecord\n",
    "from Bio.Seq import Seq\n",
    "\n",
    "import zlib"
   ]
  },
  {
   "cell_type": "markdown",
   "id": "signal-advertising",
   "metadata": {},
   "source": [
    "# SQNce Creation Functions"
   ]
  },
  {
   "cell_type": "code",
   "execution_count": null,
   "id": "frequent-diving",
   "metadata": {},
   "outputs": [],
   "source": [
    "# TODO add documentation to all SQNce creation functions\n",
    "\n",
    "# Establish connection with SQNce.db, generating a new SQLite3 database if needed\n",
    "def sql_connection():\n",
    "    try:\n",
    "        con = sqlite3.connect('SQNce.db')\n",
    "        print(\"Connection established.\")\n",
    "        return(con)\n",
    "    except Error:\n",
    "        print(Error)\n",
    "\n",
    "# After establishing connection with SQNce create the specified tables\n",
    "def sql_table(con):\n",
    "    cursorObj = con.cursor()\n",
    "    cursorObj.execute(\"\"\"CREATE TABLE IF NOT EXISTS species(\n",
    "                         species_name text PRIMARY KEY, \n",
    "                         common_name text) \n",
    "                         WITHOUT ROWID\"\"\")\n",
    "    cursorObj.execute(\"\"\"CREATE TABLE IF NOT EXISTS genotypes(\n",
    "                         genotype_id text PRIMARY KEY, \n",
    "                         species_name text, \n",
    "                         genotype_name text,\n",
    "                         FOREIGN KEY (species_name) REFERENCES species(species_name)) \n",
    "                         WITHOUT ROWID\"\"\")\n",
    "\n",
    "    cursorObj.execute(\"\"\"CREATE TABLE IF NOT EXISTS protein_seqs(\n",
    "                         protein_variant text PRIMARY KEY,\n",
    "                         protein_id text,\n",
    "                         genotype_id text,\n",
    "                         protein_length text,\n",
    "                         protein_sequence blob,\n",
    "                         FOREIGN KEY (genotype_id) REFERENCES genotypes(genotype_id)) \n",
    "                         WITHOUT ROWID\"\"\")\n",
    "    con.commit()"
   ]
  },
  {
   "cell_type": "code",
   "execution_count": null,
   "id": "monthly-fifty",
   "metadata": {},
   "outputs": [],
   "source": [
    "# Current implementation requires re-parsing of all the input files to create SQNce\n",
    "# TODO SQNce update functions to parse input data only if not previously included \n",
    "\n",
    "if os.path.exists(\"SQNce.db\"): os.remove(\"SQNce.db\")\n",
    "con = sql_connection()\n",
    "sql_table(con)"
   ]
  },
  {
   "cell_type": "markdown",
   "id": "likely-precipitation",
   "metadata": {},
   "source": [
    "# SQNce Data Input Functions"
   ]
  },
  {
   "cell_type": "code",
   "execution_count": null,
   "id": "curious-sample",
   "metadata": {},
   "outputs": [],
   "source": [
    "# TODO add documentation to all SQNce Data Input Functions\n",
    "\n",
    "def species_insert(con, entities):\n",
    "    cursorObj = con.cursor()\n",
    "    cursorObj.execute(\"\"\"INSERT INTO species(\n",
    "                         species_name, common_name) \n",
    "                         VALUES(?, ?)\"\"\", entities)\n",
    "    con.commit()\n",
    "    \n",
    "def genotype_insert(con, entities):\n",
    "    cursorObj = con.cursor()\n",
    "    cursorObj.execute(\"\"\"INSERT INTO genotypes(\n",
    "                         genotype_id, \n",
    "                         species_name, \n",
    "                         genotype_name) \n",
    "                         VALUES(?, ?, ?)\"\"\", entities)\n",
    "    con.commit()\n",
    "\n",
    "# https://stackoverflow.com/questions/18219779/bulk-insert-huge-data-into-sqlite-using-python\n",
    "def protein_seq_insert(con, entity_list):\n",
    "    cursorObj = con.cursor()\n",
    "    cursorObj.executemany(\"\"\"INSERT INTO protein_seqs(\n",
    "                         protein_variant, \n",
    "                         protein_id, \n",
    "                         genotype_id, \n",
    "                         protein_length,  \n",
    "                         protein_sequence) \n",
    "                         VALUES(?, ?, ?, ?, ?)\"\"\", entity_list)\n",
    "    con.commit()"
   ]
  },
  {
   "cell_type": "code",
   "execution_count": null,
   "id": "binary-development",
   "metadata": {},
   "outputs": [],
   "source": [
    "# SQNce database is initiated using predifined TSV files\n",
    "# TSV either contain the input data or reference input files to parse\n",
    "# TODO add documentation to SQNce data input parsing\n",
    "\n",
    "df = pd.read_csv(\"init/species.tsv\", sep=\"\\t\")\n",
    "for index, row in df.iterrows():\n",
    "    species_insert(con, entities=list(row))\n",
    "\n",
    "df = pd.read_csv(\"init/genotypes.tsv\", sep=\"\\t\")\n",
    "for index, row in df.iterrows():\n",
    "    genotype_insert(con, entities=list(row))\n",
    "\n",
    "df = pd.read_csv(\"init/fasta_list.tsv\", sep=\"\\t\")\n",
    "for index, row in df.iterrows():\n",
    "    fasta_file = gzip.open(\"/home/longest/\"+row[2], mode='rt')\n",
    "    protein_seq_list = []\n",
    "    for seq in SeqIO.parse(fasta_file, \"fasta\"):\n",
    "        # TODO change db to number key to avoid duplicated name problems\n",
    "        if row[0] == \"ZmB73v3\": \n",
    "            seq.id = seq.id + \"v3\"\n",
    "        # Protein sequences are saved as as a Binary data type for compression\n",
    "        protein_seq_list.append([seq.id, seq.id.split(\"_\")[0], row[0], len(seq.seq), \n",
    "                                 sqlite3.Binary(zlib.compress(str(seq.seq).encode('utf-8')))])\n",
    "    protein_seq_insert(con, protein_seq_list)"
   ]
  },
  {
   "cell_type": "markdown",
   "id": "descending-zambia",
   "metadata": {},
   "source": [
    "# SQNce Query Functions"
   ]
  },
  {
   "cell_type": "code",
   "execution_count": null,
   "id": "injured-forge",
   "metadata": {},
   "outputs": [],
   "source": [
    "# TODO add documentation to SQNce queries\n",
    "\n",
    "def protein_seq_select(con, entity_list):\n",
    "    od = OrderedDict()\n",
    "    for entity in entity_list:\n",
    "        cursorObj = con.cursor()\n",
    "        cursorObj.execute('''SELECT protein_variant, protein_sequence \n",
    "                             FROM protein_seqs \n",
    "                             WHERE protein_variant =  ?  ''', (entity,))\n",
    "        # (name,) - need the comma to treat it as a single item and not list of letters\n",
    "        selected = cursorObj.fetchall()[0]\n",
    "        record = SeqRecord(Seq(zlib.decompress(selected[1]).decode(encoding='UTF-8')), \n",
    "                           id=selected[0], name=\"\", description=\"\")\n",
    "        od[selected[0]] = record\n",
    "        with open(\"selected.fasta\", 'w') as handle:\n",
    "            SeqIO.write(od.values(), handle, 'fasta')"
   ]
  },
  {
   "cell_type": "markdown",
   "id": "small-breakdown",
   "metadata": {},
   "source": [
    "# Example Queries"
   ]
  },
  {
   "cell_type": "code",
   "execution_count": null,
   "id": "senior-batman",
   "metadata": {},
   "outputs": [],
   "source": [
    "con = sqlite3.connect('SQNce.db')\n",
    "# Use the above query functions to parse SQNce with your gene lists \n",
    "input_value = [your_gene_list]\n",
    "protein_seq_select(con, input_value)\n",
    "con.close()"
   ]
  }
 ],
 "metadata": {
  "kernelspec": {
   "display_name": "Python 3",
   "language": "python",
   "name": "python3"
  },
  "language_info": {
   "codemirror_mode": {
    "name": "ipython",
    "version": 3
   },
   "file_extension": ".py",
   "mimetype": "text/x-python",
   "name": "python",
   "nbconvert_exporter": "python",
   "pygments_lexer": "ipython3",
   "version": "3.8.5"
  }
 },
 "nbformat": 4,
 "nbformat_minor": 5
}
