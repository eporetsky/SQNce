{
 "cells": [
  {
   "cell_type": "code",
   "execution_count": 1,
   "id": "vocal-scene",
   "metadata": {},
   "outputs": [],
   "source": [
    "import os\n",
    "import gzip\n",
    "import sqlite3\n",
    "import zlib\n",
    "import io\n",
    "import numpy as np\n",
    "#from sqlite3 import Error\n",
    "import pandas as pd\n",
    "from collections import OrderedDict\n",
    "\n",
    "from Bio import SeqIO \n",
    "from Bio.SeqRecord import SeqRecord\n",
    "from Bio.Seq import Seq"
   ]
  },
  {
   "cell_type": "markdown",
   "id": "bottom-niger",
   "metadata": {},
   "source": [
    "# SQNce Mapping-related Tables"
   ]
  },
  {
   "cell_type": "code",
   "execution_count": 2,
   "id": "satellite-clarity",
   "metadata": {},
   "outputs": [],
   "source": [
    "# TODO add documentation to all SQNce creation functions\n",
    "\n",
    "# Establish connection with SQNce.db, generating a new SQLite3 database if needed\n",
    "def sql_connection():\n",
    "    con = sqlite3.connect('SQNce.db')\n",
    "    print(\"Connection established.\")\n",
    "    \n",
    "# After establishing connection with SQNce create the specified tables\n",
    "def sql_table(con):\n",
    "    cursorObj = con.cursor()\n",
    "    \n",
    "    cursorObj.execute(\"\"\"CREATE TABLE IF NOT EXISTS mapping_traits(\n",
    "                         experiment text,\n",
    "                         trait text,\n",
    "                         description text,\n",
    "                         plot blob,\n",
    "                         processed text,\n",
    "                         score integer,\n",
    "                         num_candidates integer)\n",
    "                         \"\"\")   \n",
    "\n",
    "    cursorObj.execute(\"\"\"CREATE TABLE IF NOT EXISTS mapping_results(\n",
    "                         experiment text,\n",
    "                         trait text,\n",
    "                         snp text,\n",
    "                         chrom text,\n",
    "                         pos integer,\n",
    "                         ref text,\n",
    "                         alt text,\n",
    "                         effect REAL,\n",
    "                         pval REAL)\n",
    "                         \"\"\")\n",
    "    cursorObj.execute(\"\"\"CREATE TABLE IF NOT EXISTS mapping_candidates(\n",
    "                         gene_id text,\n",
    "                         gene_symbol text,\n",
    "                         gene_annotation text,\n",
    "                         gene_start integer,\n",
    "                         gene_end integer,\n",
    "                         distance integer,\n",
    "                         experiment text,\n",
    "                         trait text,\n",
    "                         snp text,\n",
    "                         chrom text,\n",
    "                         pos integer,\n",
    "                         pval REAL,\n",
    "                         effect REAL)\n",
    "                         \"\"\")\n",
    "    cursorObj.execute(\"\"\"CREATE TABLE IF NOT EXISTS mapping_clusters(\n",
    "                         experiment text,\n",
    "                         trait text,\n",
    "                         feature text,\n",
    "                         description text)\n",
    "                         \"\"\")\n",
    "    \n",
    "    con.commit()"
   ]
  },
  {
   "cell_type": "code",
   "execution_count": 3,
   "id": "spatial-contrary",
   "metadata": {},
   "outputs": [],
   "source": [
    "con = sqlite3.connect('SQNce.db')\n",
    "def drop_trait_tables(con):\n",
    "    cursorObj = con.cursor()\n",
    "    cursorObj.execute(\"\"\"DROP TABLE mapping_traits\"\"\")\n",
    "    cursorObj.execute(\"\"\"DROP TABLE mapping_results\"\"\")\n",
    "    cursorObj.execute(\"\"\"DROP TABLE mapping_candidates\"\"\")\n",
    "    cursorObj.execute(\"\"\"DROP TABLE mapping_clusters\"\"\")\n",
    "    con.commit()\n",
    "drop_trait_tables(con)\n",
    "con.close()"
   ]
  },
  {
   "cell_type": "code",
   "execution_count": 4,
   "id": "unusual-premium",
   "metadata": {},
   "outputs": [],
   "source": [
    "# Current implementation requires re-parsing of all the input files to create SQNce\n",
    "# TODO SQNce update functions to parse input data only if not previously included \n",
    "#if os.path.exists(\"SQNce-proteomes.db\"): os.remove(\"SQNce-proteomes.db\")\n",
    "con = sqlite3.connect('SQNce.db')\n",
    "sql_table(con)\n",
    "con.close()"
   ]
  },
  {
   "cell_type": "markdown",
   "id": "sticky-passage",
   "metadata": {},
   "source": [
    "# SQNce Mapping-related Functions"
   ]
  },
  {
   "cell_type": "code",
   "execution_count": 5,
   "id": "republican-watershed",
   "metadata": {},
   "outputs": [],
   "source": [
    "def mapping_traits_insert_traits(con, entities):\n",
    "    cursorObj = con.cursor()\n",
    "    cursorObj.executemany(\"\"\"INSERT INTO mapping_traits(\n",
    "                         experiment, \n",
    "                         trait, \n",
    "                         description,\n",
    "                         plot,\n",
    "                         processed,\n",
    "                         score,\n",
    "                         num_candidates) \n",
    "                         VALUES(?,?,?,?,?,?,?)\"\"\", entities)\n",
    "    con.commit()\n",
    "\n",
    "def mapping_traits_insert_results(con, entities):\n",
    "    cursorObj = con.cursor()\n",
    "    cursorObj.executemany(\"\"\"INSERT INTO mapping_results(\n",
    "                         experiment, \n",
    "                         trait, \n",
    "                         snp,\n",
    "                         chrom,\n",
    "                         pos,\n",
    "                         ref,\n",
    "                         alt,\n",
    "                         effect,\n",
    "                         pval) \n",
    "                         VALUES(?,?,?,?,?,?,?,?,?)\"\"\", entities)\n",
    "    con.commit()\n",
    "    \n",
    "def mapping_traits_insert_candidates(con, entities):\n",
    "    cursorObj = con.cursor()\n",
    "    cursorObj.execute(\"\"\"INSERT INTO mapping_candidates(\n",
    "                         gene_id, \n",
    "                         gene_symbol, \n",
    "                         gene_annotation,\n",
    "                         gene_start,\n",
    "                         gene_end,\n",
    "                         distance,\n",
    "                         experiment,\n",
    "                         trait,\n",
    "                         snp,\n",
    "                         chrom,\n",
    "                         pos,\n",
    "                         pval,\n",
    "                         effect) \n",
    "                         VALUES(?,?,?,?,?,?,?,?,?,?,?,?,?)\"\"\", entities)\n",
    "    con.commit()\n",
    "    \n",
    "def mapping_traits_insert_clusters(con, entities):\n",
    "    cursorObj = con.cursor()\n",
    "    cursorObj.executemany(\"\"\"INSERT INTO mapping_clusters(\n",
    "                         experiment, \n",
    "                         trait, \n",
    "                         feature,\n",
    "                         description) \n",
    "                         VALUES(?,?,?,?)\"\"\", entities)\n",
    "    con.commit()\n",
    "\n",
    "\n"
   ]
  },
  {
   "cell_type": "markdown",
   "id": "mediterranean-activity",
   "metadata": {},
   "source": [
    "# SQNce Load the rMVP GLM GWAS Results"
   ]
  },
  {
   "cell_type": "markdown",
   "id": "artificial-token",
   "metadata": {},
   "source": [
    "# Add the mapping results and traits to the tables"
   ]
  },
  {
   "cell_type": "code",
   "execution_count": 7,
   "id": "heavy-berlin",
   "metadata": {},
   "outputs": [],
   "source": [
    "con = sqlite3.connect('SQNce.db')\n",
    "\n",
    "description_dict = {\"experiment1\": \"description1\",\n",
    "                    \"experiment2\": \"description2\"}\n",
    "\n",
    "for experiment in [\"experiment1\", \"experiment2\"]:\n",
    "    cwd = os.getcwd()\n",
    "    folder_path = os.path.join(cwd, \"mapping\", experiment)\n",
    "\n",
    "    # The name of the experiment is also the name of the folder\n",
    "\n",
    "    fl_pvals_dict = {}\n",
    "    fl_plots_dict = {}\n",
    "    fl_name_set = set()\n",
    "    for fl in os.listdir(folder_path):\n",
    "        # Assume for now only my output files are used\n",
    "        if fl.split(\".\")[-1] == \"png\":\n",
    "            fl_name = fl.replace(\".png\", \"\")\n",
    "            fl_plots_dict[fl_name] = fl\n",
    "        if fl.split(\".\")[-1] == \"csv\":\n",
    "            fl_name = fl.replace(\".sig.csv\", \"\")\n",
    "            fl_pvals_dict[fl_name] = fl\n",
    "        fl_name_set.add(fl_name)\n",
    "    fl_name_set\n",
    "\n",
    "\n",
    "    all_traits_list = []\n",
    "    all_results_list = []\n",
    "\n",
    "    # The name of the trait is also the name of the file\n",
    "    for trait in fl_name_set:\n",
    "        # Load the trait results dataframe\n",
    "        filename = os.path.join(folder_path, fl_pvals_dict[trait])\n",
    "        df = pd.read_csv(filename)\n",
    "        if len(df) == 0:\n",
    "            continue\n",
    "        df = df.sort_values(df.columns[-1])\n",
    "\n",
    "        # Load the trait plot binary variable\n",
    "        filename = os.path.join(folder_path, fl_plots_dict[trait])\n",
    "        with open(filename, 'rb') as file: plot_blob = file.read()\n",
    "        \n",
    "        description = description_dict[experiment]\n",
    "        all_traits_list.append([experiment, trait, description, plot_blob, \"Unannotated\", 0, 0])    \n",
    "\n",
    "        # List order: experiment,trait,snp,chrom,pos,ref,alt,effect,pval,plot\n",
    "        #selected_rows_ix = [0]\n",
    "        #selected_rows = df.iloc[selected_rows_ix,].values.tolist()\n",
    "        selected_rows = df.values.tolist()\n",
    "\n",
    "        for row in selected_rows:\n",
    "            all_results_list.append([experiment, trait, row[0], row[1], row[2], row[3], row[4], row[5], row[7]])\n",
    "\n",
    "    mapping_traits_insert_traits(con, all_traits_list)\n",
    "    mapping_traits_insert_results(con, all_results_list)"
   ]
  },
  {
   "cell_type": "markdown",
   "id": "smart-seattle",
   "metadata": {},
   "source": [
    "# Adding clustered traits to mapping_clusters"
   ]
  },
  {
   "cell_type": "code",
   "execution_count": 8,
   "id": "recognized-bumper",
   "metadata": {},
   "outputs": [],
   "source": [
    "con = sqlite3.connect('SQNce.db')\n",
    "cwd = os.getcwd()\n",
    "all_clusters_list = []\n",
    "for experiment in [\"experiment1\", \"experiment2\"]:\n",
    "    folder_path = os.path.join(cwd, \"mapping\", experiment+\".tsv\")\n",
    "    tmp = pd.read_csv(folder_path, sep=\"\\t\")\n",
    "    tmp.columns = [\"feature\", \"trait\"]\n",
    "    tmp[\"experiment\"] = experiment\n",
    "    tmp[\"description\"] = \"\"\n",
    "    tmp = tmp[[\"experiment\", \"trait\", \"feature\", \"description\"]]\n",
    "    all_clusters_list += tmp.values.tolist() \n",
    "mapping_traits_insert_clusters(con, all_clusters_list)"
   ]
  },
  {
   "cell_type": "markdown",
   "id": "british-evening",
   "metadata": {},
   "source": [
    "# html.Img Related"
   ]
  },
  {
   "cell_type": "code",
   "execution_count": null,
   "id": "ceramic-denver",
   "metadata": {},
   "outputs": [],
   "source": [
    "from io import BytesIO\n",
    "def pil_to_b64(im, enc_format=\"png\", **kwargs):\n",
    "    \"\"\"\n",
    "    Converts a PIL Image into base64 string for HTML displaying\n",
    "    :param im: PIL Image object\n",
    "    :param enc_format: The image format for displaying. If saved the image will have that extension.\n",
    "    :return: base64 encoding\n",
    "    \"\"\"\n",
    "\n",
    "    buff = BytesIO()\n",
    "    im.save(buff, format=enc_format, **kwargs)\n",
    "    encoded = base64.b64encode(buff.getvalue()).decode(\"utf-8\")\n",
    "\n",
    "    return encoded\n",
    "\n",
    "# https://stackoverflow.com/questions/14348442/how-do-i-display-a-pil-image-object-in-a-template#14348661\n",
    "import PIL\n",
    "import io\n",
    "from PIL import Image\n",
    "\n",
    "picture_stream = io.BytesIO(fig)\n",
    "picture = Image.open(picture_stream)\n",
    "# In dash you can send the image to html.Img like this:\n",
    "# html.Img(id=\"my-img\",className=\"image\", src=\"data:image/png;base64, \" + pil_to_b64(picture))\n",
    "\n",
    "# picture = PIL.Image.open(picture_stream)\n",
    "# picture.show()\n",
    "# pil_to_b64(picture)"
   ]
  },
  {
   "cell_type": "markdown",
   "id": "southwest-supply",
   "metadata": {},
   "source": [
    "# Creating thumbnails\n",
    "(I ended up not using it but might be a nice option to keep in mind)"
   ]
  },
  {
   "cell_type": "code",
   "execution_count": 6,
   "id": "organic-appeal",
   "metadata": {},
   "outputs": [
    {
     "ename": "FileNotFoundError",
     "evalue": "[WinError 3] The system cannot find the path specified: 'C:\\\\Users\\\\SagerFish\\\\Desktop\\\\PlantApp\\\\mapping\\\\experiment_folder'",
     "output_type": "error",
     "traceback": [
      "\u001b[1;31m---------------------------------------------------------------------------\u001b[0m",
      "\u001b[1;31mFileNotFoundError\u001b[0m                         Traceback (most recent call last)",
      "\u001b[1;32m<ipython-input-6-4b428260d50a>\u001b[0m in \u001b[0;36m<module>\u001b[1;34m\u001b[0m\n\u001b[0;32m     10\u001b[0m \u001b[0mfolder_path\u001b[0m \u001b[1;33m=\u001b[0m \u001b[0mos\u001b[0m\u001b[1;33m.\u001b[0m\u001b[0mpath\u001b[0m\u001b[1;33m.\u001b[0m\u001b[0mjoin\u001b[0m\u001b[1;33m(\u001b[0m\u001b[0mcwd\u001b[0m\u001b[1;33m,\u001b[0m \u001b[1;34m\"mapping\"\u001b[0m\u001b[1;33m,\u001b[0m \u001b[1;34m\"experiment_folder\"\u001b[0m\u001b[1;33m)\u001b[0m\u001b[1;33m\u001b[0m\u001b[1;33m\u001b[0m\u001b[0m\n\u001b[0;32m     11\u001b[0m \u001b[1;33m\u001b[0m\u001b[0m\n\u001b[1;32m---> 12\u001b[1;33m \u001b[1;32mfor\u001b[0m \u001b[0mfname\u001b[0m \u001b[1;32min\u001b[0m \u001b[0mos\u001b[0m\u001b[1;33m.\u001b[0m\u001b[0mlistdir\u001b[0m\u001b[1;33m(\u001b[0m\u001b[0mfolder_path\u001b[0m\u001b[1;33m)\u001b[0m\u001b[1;33m:\u001b[0m\u001b[1;33m\u001b[0m\u001b[1;33m\u001b[0m\u001b[0m\n\u001b[0m\u001b[0;32m     13\u001b[0m     \u001b[1;32mif\u001b[0m \u001b[0mfname\u001b[0m\u001b[1;33m.\u001b[0m\u001b[0msplit\u001b[0m\u001b[1;33m(\u001b[0m\u001b[1;34m\".\"\u001b[0m\u001b[1;33m)\u001b[0m\u001b[1;33m[\u001b[0m\u001b[1;33m-\u001b[0m\u001b[1;36m1\u001b[0m\u001b[1;33m]\u001b[0m \u001b[1;33m==\u001b[0m \u001b[1;34m\"csv\"\u001b[0m\u001b[1;33m:\u001b[0m\u001b[1;33m\u001b[0m\u001b[1;33m\u001b[0m\u001b[0m\n\u001b[0;32m     14\u001b[0m         \u001b[1;32mcontinue\u001b[0m\u001b[1;33m\u001b[0m\u001b[1;33m\u001b[0m\u001b[0m\n",
      "\u001b[1;31mFileNotFoundError\u001b[0m: [WinError 3] The system cannot find the path specified: 'C:\\\\Users\\\\SagerFish\\\\Desktop\\\\PlantApp\\\\mapping\\\\experiment_folder'"
     ]
    }
   ],
   "source": [
    "import os\n",
    "from PIL import Image\n",
    "# https://www.tutorialspoint.com/python_pillow/python_pillow_creating_thumbnails.htm\n",
    "cwd = os.getcwd()\n",
    "def tnails(fpath, fname):\n",
    "    image = Image.open(os.path.join(fpath, fname))\n",
    "    image.thumbnail((300,300))\n",
    "    image.save(os.path.join(fpath, fname.replace(\".png\", \".thumb.png\")))\n",
    "\n",
    "folder_path = os.path.join(cwd, \"mapping\", \"experiment_folder\")\n",
    "\n",
    "for fname in os.listdir(folder_path):\n",
    "    if fname.split(\".\")[-1] == \"csv\":\n",
    "        continue\n",
    "    tnails(folder_path, fname)"
   ]
  },
  {
   "cell_type": "markdown",
   "id": "significant-blame",
   "metadata": {},
   "source": [
    "# Groupby Bins"
   ]
  },
  {
   "cell_type": "code",
   "execution_count": null,
   "id": "answering-awareness",
   "metadata": {},
   "outputs": [],
   "source": [
    "df = pd.read_sql_query('''SELECT * FROM mapping_candidates''', con)\n",
    "df.head()"
   ]
  }
 ],
 "metadata": {
  "kernelspec": {
   "display_name": "Python 3",
   "language": "python",
   "name": "python3"
  },
  "language_info": {
   "codemirror_mode": {
    "name": "ipython",
    "version": 3
   },
   "file_extension": ".py",
   "mimetype": "text/x-python",
   "name": "python",
   "nbconvert_exporter": "python",
   "pygments_lexer": "ipython3",
   "version": "3.8.5"
  }
 },
 "nbformat": 4,
 "nbformat_minor": 5
}
