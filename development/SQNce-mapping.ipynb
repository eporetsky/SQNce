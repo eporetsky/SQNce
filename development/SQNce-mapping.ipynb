{
 "cells": [
  {
   "cell_type": "code",
   "execution_count": 3,
   "id": "sufficient-movement",
   "metadata": {},
   "outputs": [],
   "source": [
    "import os\n",
    "import gzip\n",
    "import sqlite3\n",
    "import zlib\n",
    "from sqlite3 import Error\n",
    "import pandas as pd\n",
    "from collections import OrderedDict\n",
    "\n",
    "from Bio import SeqIO \n",
    "from Bio.SeqRecord import SeqRecord\n",
    "from Bio.Seq import Seq"
   ]
  },
  {
   "cell_type": "markdown",
   "id": "happy-glasgow",
   "metadata": {},
   "source": [
    "# SQNce Mapping-related Tables\n",
    "*** This part is still in development ***"
   ]
  },
  {
   "cell_type": "code",
   "execution_count": 4,
   "id": "concerned-mistress",
   "metadata": {},
   "outputs": [],
   "source": [
    "# TODO add documentation to all SQNce creation functions\n",
    "\n",
    "# Establish connection with SQNce.db, generating a new SQLite3 database if needed\n",
    "def sql_connection():\n",
    "    try:\n",
    "        con = sqlite3.connect('SQNce.db')\n",
    "        print(\"Connection established.\")\n",
    "        return(con)\n",
    "    except Error:\n",
    "        print(Error)\n",
    "\n",
    "# After establishing connection with SQNce create the specified tables\n",
    "def sql_table(con):\n",
    "    cursorObj = con.cursor()\n",
    "    \n",
    "    cursorObj.execute(\"\"\"CREATE TABLE IF NOT EXISTS mapping_traits(\n",
    "                         experiment text,\n",
    "                         trait text,\n",
    "                         description text,\n",
    "                         plot blob)\n",
    "                         \"\"\")   \n",
    "\n",
    "    cursorObj.execute(\"\"\"CREATE TABLE IF NOT EXISTS mapping_results(\n",
    "                         experiment text,\n",
    "                         trait text,\n",
    "                         snp text,\n",
    "                         chrom text,\n",
    "                         pos integer,\n",
    "                         ref text,\n",
    "                         alt text,\n",
    "                         effect REAL,\n",
    "                         pval REAL)\n",
    "                         \"\"\")\n",
    "    cursorObj.execute(\"\"\"CREATE TABLE IF NOT EXISTS mapping_candidates(\n",
    "                         gene_id text,\n",
    "                         gene_symbol text,\n",
    "                         gene_description text, \n",
    "                         experiment text,\n",
    "                         trait text,\n",
    "                         candidate_count integer,\n",
    "                         snp text,\n",
    "                         chrom text,\n",
    "                         pos integer)\n",
    "                         \"\"\")   \n",
    "    con.commit()"
   ]
  },
  {
   "cell_type": "code",
   "execution_count": 6,
   "id": "relative-causing",
   "metadata": {},
   "outputs": [
    {
     "name": "stdout",
     "output_type": "stream",
     "text": [
      "Connection established.\n"
     ]
    }
   ],
   "source": [
    "# Current implementation requires re-parsing of all the input files to create SQNce\n",
    "# TODO SQNce update functions to parse input data only if not previously included \n",
    "#if os.path.exists(\"SQNce-proteomes.db\"): os.remove(\"SQNce-proteomes.db\")\n",
    "con = sql_connection()\n",
    "sql_table(con)\n",
    "con.close()"
   ]
  },
  {
   "cell_type": "markdown",
   "id": "authentic-packet",
   "metadata": {},
   "source": [
    "# SQNce Mapping-related Functions"
   ]
  },
  {
   "cell_type": "code",
   "execution_count": 7,
   "id": "creative-produce",
   "metadata": {},
   "outputs": [],
   "source": [
    "def mapping_traits_insert_traits(con, entities):\n",
    "    cursorObj = con.cursor()\n",
    "    cursorObj.execute(\"\"\"INSERT INTO mapping_traits(\n",
    "                         experiment, \n",
    "                         trait, \n",
    "                         description,\n",
    "                         plot) \n",
    "                         VALUES(?,?,?,?)\"\"\", entities)\n",
    "    con.commit()\n",
    "\n",
    "def mapping_traits_insert_results(con, entities):\n",
    "    cursorObj = con.cursor()\n",
    "    cursorObj.execute(\"\"\"INSERT INTO mapping_results(\n",
    "                         experiment, \n",
    "                         trait, \n",
    "                         snp,\n",
    "                         chrom,\n",
    "                         pos,\n",
    "                         ref,\n",
    "                         alt,\n",
    "                         effect,\n",
    "                         pval) \n",
    "                         VALUES(?,?,?,?,?,?,?,?,?)\"\"\", entities)\n",
    "    con.commit()\n",
    "    \n",
    "def mapping_traits_insert_candidates(con, entities):\n",
    "    cursorObj = con.cursor()\n",
    "    cursorObj.execute(\"\"\"INSERT INTO mapping_candidates(\n",
    "                         experiment, \n",
    "                         trait, \n",
    "                         gene_id,\n",
    "                         gene_symbol,\n",
    "                         gene_description,\n",
    "                         candidate_count,\n",
    "                         snp,\n",
    "                         chrom,\n",
    "                         pos) \n",
    "                         VALUES(?,?,?,?,,?,?,?,?,?)\"\"\", entities)\n",
    "    con.commit()\n",
    "\n"
   ]
  },
  {
   "cell_type": "markdown",
   "id": "solved-canvas",
   "metadata": {},
   "source": [
    "# SQNce Load the rMVP GLM GWAS Results"
   ]
  },
  {
   "cell_type": "code",
   "execution_count": null,
   "id": "attached-edinburgh",
   "metadata": {},
   "outputs": [
    {
     "name": "stdout",
     "output_type": "stream",
     "text": [
      "Connection established.\n"
     ]
    }
   ],
   "source": [
    "con = sql_connection()\n",
    "\n",
    "# The name of the experiment is also the name of the folder\n",
    "experiment = \"experiment_name\"\n",
    "\n",
    "fl_pvals_dict = {}\n",
    "fl_plots_dict = {}\n",
    "fl_name_set = set()\n",
    "for fl in os.listdir(experiment):\n",
    "    # Assume for now only my output files are used\n",
    "    if fl.split(\".\")[-1] == \"png\":\n",
    "        fl_name = fl.replace(\".png\", \"\")\n",
    "        fl_plots_dict[fl_name] = fl\n",
    "    if fl.split(\".\")[-1] == \"csv\":\n",
    "        fl_name = fl.replace(\".sig.csv\", \"\")\n",
    "        fl_pvals_dict[fl_name] = fl\n",
    "    fl_name_set.add(fl_name)\n",
    "fl_name_set\n",
    "\n",
    "# The name of the trait is also the name of the file\n",
    "for trait in fl_name_set:\n",
    "    # Load the trait results dataframe\n",
    "    filename = os.path.join(experiment, fl_pvals_dict[trait])\n",
    "    df = pd.read_csv(filename)\n",
    "    if len(df) == 0:\n",
    "        continue\n",
    "    df = df.sort_values(df.columns[-1])\n",
    "\n",
    "    # Load the trait plot binary variable\n",
    "    filename = os.path.join(experiment, fl_plots_dict[trait])\n",
    "    with open(filename, 'rb') as file: plot_blob = file.read()\n",
    "\n",
    "    mapping_traits_insert_traits(con, [experiment, trait, \"experiment description\", plot_blob])\n",
    "    \n",
    "\n",
    "    # List order: experiment,trait,snp,chrom,pos,ref,alt,effect,pval,plot\n",
    "    #selected_rows_ix = [0]\n",
    "    #selected_rows = df.iloc[selected_rows_ix,].values.tolist()\n",
    "    selected_rows = df.values.tolist()\n",
    "        \n",
    "    for row in selected_rows:\n",
    "        mapping_traits_insert_results(con, \n",
    "            [experiment, trait, row[0], row[1], row[2], row[3], row[4], row[5], row[7]])\n",
    "con.close()"
   ]
  }
 ],
 "metadata": {
  "kernelspec": {
   "display_name": "Python 3",
   "language": "python",
   "name": "python3"
  },
  "language_info": {
   "codemirror_mode": {
    "name": "ipython",
    "version": 3
   },
   "file_extension": ".py",
   "mimetype": "text/x-python",
   "name": "python",
   "nbconvert_exporter": "python",
   "pygments_lexer": "ipython3",
   "version": "3.8.5"
  }
 },
 "nbformat": 4,
 "nbformat_minor": 5
}
