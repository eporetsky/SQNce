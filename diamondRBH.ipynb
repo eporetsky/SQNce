{
 "cells": [
  {
   "cell_type": "code",
   "execution_count": null,
   "metadata": {},
   "outputs": [],
   "source": [
    "import subprocess\n",
    "import io\n",
    "import gzip\n",
    "import os\n",
    "\n",
    "import pandas as pd\n",
    "\n",
    "from collections import OrderedDict\n",
    "from Bio import SeqIO\n",
    "from Bio.Seq import Seq\n",
    "from Bio.SeqRecord import SeqRecord\n",
    "from Bio.Alphabet import IUPAC"
   ]
  },
  {
   "cell_type": "markdown",
   "metadata": {},
   "source": [
    "# Get the gene list from the reference fasta file"
   ]
  },
  {
   "cell_type": "code",
   "execution_count": null,
   "metadata": {},
   "outputs": [],
   "source": [
    "fasta_file = gzip.open(fld[ref], mode='rt')\n",
    "record_iterator = SeqIO.parse(fasta_file, \"fasta\")\n",
    "od = OrderedDict()\n",
    "\n",
    "for record in record_iterator:\n",
    "    record.id = str(record.id).split(\"_\")[0]\n",
    "    record.name = \"\"\n",
    "    record.description = \"\"\n",
    "    if record.id in od:\n",
    "        if len(record.seq) > len(od[record.id].seq):\n",
    "            od[record.id] = record\n",
    "    else:\n",
    "        od[record.id] = record\n",
    "        \n",
    "len(od.keys())\n",
    "rbh_df = pd.DataFrame(index=od.keys())"
   ]
  },
  {
   "cell_type": "code",
   "execution_count": null,
   "metadata": {},
   "outputs": [],
   "source": [
    "import os\n",
    "\n",
    "# make a file name dictionary\n",
    "fld = {}\n",
    "name_list = []\n",
    "for fl in os.listdir(\".\"):\n",
    "    if fl[-4:] == \"a.gz\":\n",
    "        fld[fl.split(\"-\")[1]] = fl\n",
    "\n",
    "# generate a diamond db for every fasta.gz file\n",
    "for fl in fld.keys():    \n",
    "    os.system(\"gunzip --keep --stdout {0} | \\\n",
    "               diamond makedb --in /dev/stdin --db {1}\".format(fld[fl], fl))\n",
    "\n",
    "# blast every non-reference fasta.gz file against the reference fasta.gz\n",
    "ref = \"B73\"\n",
    "for fl in fld.keys():\n",
    "    # Skip ref fasta\n",
    "    if fl == ref:\n",
    "        continue\n",
    "    \n",
    "    # /dev/stdout only works if provided with permission: sudo chown -R $USER /dev\n",
    "    # Run Fwd comparison - ref vs. query\n",
    "    fwd = pd.read_csv(io.StringIO(subprocess.check_output(\"gunzip --keep --stdout {0} | \\\n",
    "               diamond blastp --quiet -p 32 -d {1} -q /dev/stdin -o /dev/stdout \\\n",
    "               --more-sensitive --outfmt 6 qseqid sseqid bitscore\".format(fld[ref], fl),\n",
    "               shell=True, text=True)), sep=\"\\t\", header=None)\n",
    "    \n",
    "    # Run Reciprocal Rev comparison - query vs ref    \n",
    "    rev = pd.read_csv(io.StringIO(subprocess.check_output(\"gunzip --keep --stdout {0} | \\\n",
    "               diamond blastp --quiet -p 32 -d {1} -q /dev/stdin -o /dev/stdout \\\n",
    "               --more-sensitive --outfmt 6 qseqid sseqid bitscore\".format(fld[fl], ref),\n",
    "               shell=True, text=True)), sep=\"\\t\", header=None)\n",
    "    \n",
    "    # Add headers to forward and reverse results dataframes\n",
    "    headers = [\"query\", \"subject\", \"bitscore\"]\n",
    "    fwd.columns = headers\n",
    "    rev.columns = headers\n",
    "    \n",
    "    # https://widdowquinn.github.io/2018-03-06-ibioic/02-sequence_databases/05-blast_for_rbh.html\n",
    "    # Merge forward and reverse results\n",
    "    rbbh = pd.merge(fwd, rev[['query', 'subject']],\n",
    "                    left_on='subject', right_on='query', how='outer')\n",
    "\n",
    "    # Discard rows that are not RBH\n",
    "    rbbh = rbbh.loc[rbbh.query_x == rbbh.subject_y]\n",
    "\n",
    "    # Discard genes with multiple RBHs based, keeping highest biscore pairs\n",
    "    rbbh = rbbh.sort_values(by=\"bitscore\", axis=0, ascending=False) \n",
    "    rbbh = rbbh.drop_duplicates(subset=[\"subject_y\"])\n",
    "    \n",
    "    rbbh = rbbh.drop([\"bitscore\", \"query_y\", \"subject_y\"], axis=1)\n",
    "    rbbh.columns = [ref, fl]\n",
    "    rbbh = rbbh.set_index(ref)\n",
    "\n",
    "    # join the results with the main rbh_df\n",
    "    rbh_df = rbh_df.join(rbbh, how='outer')"
   ]
  },
  {
   "cell_type": "code",
   "execution_count": null,
   "metadata": {},
   "outputs": [],
   "source": [
    "rbh_df"
   ]
  },
  {
   "cell_type": "markdown",
   "metadata": {},
   "source": [
    "# Backup code"
   ]
  },
  {
   "cell_type": "code",
   "execution_count": null,
   "metadata": {},
   "outputs": [],
   "source": [
    "# To save diamond results as tsv file\n",
    "outf = \"{0}-{1}.tsv\".format(ref, fl)\n",
    "os.system(\"gunzip --keep --stdout {0} | \\\n",
    "               diamond blastp -p 32 -d {1} -q /dev/stdin -o temp/{2} \\\n",
    "               --more-sensitive --outfmt 6 qseqid sseqid bitscore\".format(fld[fl], ref, outf))"
   ]
  },
  {
   "cell_type": "code",
   "execution_count": null,
   "metadata": {},
   "outputs": [],
   "source": [
    "# make a file name dictionary\n",
    "name_list = []\n",
    "for fl in os.listdir(\"./temp\"):\n",
    "    if fl.split(\".\")[-1] == \"tsv\":\n",
    "        name_list.append(fl)\n",
    "print(name_list)"
   ]
  },
  {
   "cell_type": "code",
   "execution_count": null,
   "metadata": {},
   "outputs": [],
   "source": [
    "# Load the BLAST results into Pandas dataframes\n",
    "fwd_results = pd.read_csv('temp/Mo17-B73.tsv', sep=\"\\t\", header=None)\n",
    "rev_results = pd.read_csv('temp/B73-Mo17.tsv', sep=\"\\t\", header=None)"
   ]
  }
 ],
 "metadata": {
  "kernelspec": {
   "display_name": "Python 3",
   "language": "python",
   "name": "python3"
  },
  "language_info": {
   "codemirror_mode": {
    "name": "ipython",
    "version": 3
   },
   "file_extension": ".py",
   "mimetype": "text/x-python",
   "name": "python",
   "nbconvert_exporter": "python",
   "pygments_lexer": "ipython3",
   "version": "3.8.5"
  }
 },
 "nbformat": 4,
 "nbformat_minor": 4
}
