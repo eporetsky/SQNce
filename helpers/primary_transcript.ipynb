{
 "cells": [
  {
   "cell_type": "code",
   "execution_count": null,
   "id": "gothic-biology",
   "metadata": {},
   "outputs": [],
   "source": [
    "import gzip\n",
    "import os\n",
    "\n",
    "from collections import OrderedDict\n",
    "from Bio import SeqIO\n",
    "from Bio.Seq import Seq\n",
    "from Bio.SeqRecord import SeqRecord\n",
    "from Bio.Alphabet import IUPAC\n",
    "\n",
    "def longest_peptide_fasta(file_name):\n",
    "    fasta_file = gzip.open(\"protein_seqs/\"+file_name, mode='rt')\n",
    "    record_iterator = SeqIO.parse(fasta_file, \"fasta\")\n",
    "    od = OrderedDict()\n",
    "    for record in record_iterator:\n",
    "        if file_name == \"Sbicolor_454_v3.1.1.protein_primaryTranscriptOnly.fa.gz\":\n",
    "            record.id = str(record.id)[:-4]\n",
    "        elif file_name == \"Athaliana_167_TAIR10.protein_primaryTranscriptOnly.fa.gz\":\n",
    "            record.id = str(record.id)[:-2]\n",
    "        elif file_name == \"Sbicolor_79_peptide.fa.gz\":\n",
    "            record.id = str(record.id).split(\"|\")[0][:-2]\n",
    "        else:\n",
    "            record.id = str(record.id).split(\"_\")[0]\n",
    "        record.name = \"\"\n",
    "        record.description = \"\"\n",
    "        if record.id in od:\n",
    "            if len(record.seq) > len(od[record.id].seq):\n",
    "                od[record.id] = record\n",
    "        else:\n",
    "            od[record.id] = record\n",
    "    # Print the first record for each fasta just to make sure\n",
    "    print(file_name, od[record.id].id)\n",
    "    # Need to remove the .gz and then zip it. gzip will compress and delete the unzipped file by default\n",
    "    # Assumes that all names end in .fa.gz. Otherwise needs to change the file name somehow\n",
    "    with open(\"protein_seqs/longest/\"+file_name[:-6]+\".longest.fa\", 'w') as handle:\n",
    "        SeqIO.write(od.values(), handle, 'fasta')\n",
    "    os.system('gzip ' + \"protein_seqs/longest/\"+file_name[:-6]+\".longest.fa\")\n",
    "\n",
    "#file_name = \"Zm-B73-v3.fasta\"           \n",
    "#lpf = longest_peptide_fasta(file_name)\n",
    "#with open(\"longest_peptide/\"+file_name, 'w') as handle:\n",
    "#    SeqIO.write(lpf.values(), handle, 'fasta')\n",
    "\n"
   ]
  },
  {
   "cell_type": "code",
   "execution_count": null,
   "id": "major-rotation",
   "metadata": {},
   "outputs": [],
   "source": [
    "import os\n",
    "for file_name in os.listdir('./'):\n",
    "    suffix = file_name.split(\".\")[-1]\n",
    "    if file_name[-4:] == \"a.gz\":\n",
    "        longest_peptide_fasta(file_name)"
   ]
  }
 ],
 "metadata": {
  "kernelspec": {
   "display_name": "Python 3",
   "language": "python",
   "name": "python3"
  },
  "language_info": {
   "codemirror_mode": {
    "name": "ipython",
    "version": 3
   },
   "file_extension": ".py",
   "mimetype": "text/x-python",
   "name": "python",
   "nbconvert_exporter": "python",
   "pygments_lexer": "ipython3",
   "version": "3.8.5"
  }
 },
 "nbformat": 4,
 "nbformat_minor": 5
}
