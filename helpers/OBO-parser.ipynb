{
 "cells": [
  {
   "cell_type": "code",
   "execution_count": 2,
   "id": "false-blind",
   "metadata": {},
   "outputs": [],
   "source": [
    "import pandas as pd"
   ]
  },
  {
   "cell_type": "markdown",
   "id": "numerous-nature",
   "metadata": {},
   "source": [
    "# OBO parser"
   ]
  },
  {
   "cell_type": "code",
   "execution_count": 3,
   "id": "governing-europe",
   "metadata": {},
   "outputs": [],
   "source": [
    "# Parser is pretty simple, open the OBO file to understand the structure\n",
    "# but note that I am assuming that every GO term has the same structure\n",
    "temp_go = {\"id\":[], \"name\":[], \"namespace\":[], \"def\":[]}\n",
    "obo_df = pd.DataFrame(temp_go)\n",
    "\n",
    "file = open('OBO/go-basic.obo')\n",
    "for row in file:\n",
    "    splt = row.split(\": \")\n",
    "    if splt[0] == \"id\":\n",
    "        temp_go[\"id\"] = [splt[1][:-1]]\n",
    "    if splt[0] == \"name\":\n",
    "        temp_go[\"name\"] = [splt[1][:-1]]\n",
    "    if splt[0] == \"namespace\":\n",
    "        temp_go[\"namespace\"] = [splt[1][:-1]]\n",
    "    if splt[0] == \"def\":\n",
    "        temp_go[\"def\"] = [splt[1][:-1].split('\"')[1]]\n",
    "        obo_df = pd.concat([obo_df, pd.DataFrame(temp_go)], axis=0)\n",
    "        temp_go = {\"id\":[], \"name\":[], \"namespace\":[], \"def\":[]}\n",
    "obo_df.to_csv(\"go-basic.csv\")"
   ]
  },
  {
   "cell_type": "code",
   "execution_count": 4,
   "id": "incoming-therapist",
   "metadata": {},
   "outputs": [],
   "source": [
    "# Parser is pretty simple, open the OBO file to understand the structure\n",
    "# but note that I am assuming that every GO term has the same structure\n",
    "temp_go = {\"id\":[], \"name\":[], \"namespace\":[], \"def\":[]}\n",
    "obo_df = pd.DataFrame(temp_go)\n",
    "\n",
    "file = open('OBO/goslim_plant.obo')\n",
    "for row in file:\n",
    "    splt = row.split(\": \")\n",
    "    if splt[0] == \"id\":\n",
    "        temp_go[\"id\"] = [splt[1][:-1]]\n",
    "    if splt[0] == \"name\":\n",
    "        temp_go[\"name\"] = [splt[1][:-1]]\n",
    "    if splt[0] == \"namespace\":\n",
    "        temp_go[\"namespace\"] = [splt[1][:-1]]\n",
    "    if splt[0] == \"def\":\n",
    "        temp_go[\"def\"] = [splt[1][:-1].split('\"')[1]]\n",
    "        obo_df = pd.concat([obo_df, pd.DataFrame(temp_go)], axis=0)\n",
    "        temp_go = {\"id\":[], \"name\":[], \"namespace\":[], \"def\":[]}\n",
    "obo_df.to_csv(\"goslim_plant.csv\")"
   ]
  }
 ],
 "metadata": {
  "kernelspec": {
   "display_name": "Python 3",
   "language": "python",
   "name": "python3"
  },
  "language_info": {
   "codemirror_mode": {
    "name": "ipython",
    "version": 3
   },
   "file_extension": ".py",
   "mimetype": "text/x-python",
   "name": "python",
   "nbconvert_exporter": "python",
   "pygments_lexer": "ipython3",
   "version": "3.8.5"
  }
 },
 "nbformat": 4,
 "nbformat_minor": 5
}
