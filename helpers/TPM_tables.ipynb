{
 "cells": [
  {
   "cell_type": "code",
   "execution_count": 31,
   "id": "5e45aec5",
   "metadata": {},
   "outputs": [],
   "source": [
    "import os\n",
    "import pandas as pd"
   ]
  },
  {
   "cell_type": "code",
   "execution_count": 2,
   "id": "86b3e3bf",
   "metadata": {},
   "outputs": [],
   "source": [
    "?pd.read_csv"
   ]
  },
  {
   "cell_type": "code",
   "execution_count": 77,
   "id": "f2dbb7ba",
   "metadata": {},
   "outputs": [
    {
     "data": {
      "text/html": [
       "<div>\n",
       "<style scoped>\n",
       "    .dataframe tbody tr th:only-of-type {\n",
       "        vertical-align: middle;\n",
       "    }\n",
       "\n",
       "    .dataframe tbody tr th {\n",
       "        vertical-align: top;\n",
       "    }\n",
       "\n",
       "    .dataframe thead th {\n",
       "        text-align: right;\n",
       "    }\n",
       "</style>\n",
       "<table border=\"1\" class=\"dataframe\">\n",
       "  <thead>\n",
       "    <tr style=\"text-align: right;\">\n",
       "      <th></th>\n",
       "      <th>table</th>\n",
       "      <th>index</th>\n",
       "      <th>run_accession</th>\n",
       "      <th>Renamed</th>\n",
       "    </tr>\n",
       "  </thead>\n",
       "  <tbody>\n",
       "    <tr>\n",
       "      <th>0</th>\n",
       "      <td>B73v4all</td>\n",
       "      <td>B73v4</td>\n",
       "      <td>SRR5909740</td>\n",
       "      <td>Root</td>\n",
       "    </tr>\n",
       "    <tr>\n",
       "      <th>1</th>\n",
       "      <td>B73v4all</td>\n",
       "      <td>B73v4</td>\n",
       "      <td>SRR5909741</td>\n",
       "      <td>Root</td>\n",
       "    </tr>\n",
       "    <tr>\n",
       "      <th>2</th>\n",
       "      <td>B73v4all</td>\n",
       "      <td>B73v4</td>\n",
       "      <td>SRR5909742</td>\n",
       "      <td>Root</td>\n",
       "    </tr>\n",
       "    <tr>\n",
       "      <th>3</th>\n",
       "      <td>B73v4all</td>\n",
       "      <td>B73v4</td>\n",
       "      <td>SRR5909746</td>\n",
       "      <td>Root</td>\n",
       "    </tr>\n",
       "    <tr>\n",
       "      <th>4</th>\n",
       "      <td>B73v4all</td>\n",
       "      <td>B73v4</td>\n",
       "      <td>SRR5909845</td>\n",
       "      <td>Root</td>\n",
       "    </tr>\n",
       "  </tbody>\n",
       "</table>\n",
       "</div>"
      ],
      "text/plain": [
       "      table  index run_accession Renamed\n",
       "0  B73v4all  B73v4    SRR5909740    Root\n",
       "1  B73v4all  B73v4    SRR5909741    Root\n",
       "2  B73v4all  B73v4    SRR5909742    Root\n",
       "3  B73v4all  B73v4    SRR5909746    Root\n",
       "4  B73v4all  B73v4    SRR5909845    Root"
      ]
     },
     "execution_count": 77,
     "metadata": {},
     "output_type": "execute_result"
    }
   ],
   "source": [
    "df = pd.read_csv(\"Kallisto_names.txt\", header=0, sep=\"\\t\")\n",
    "df.head()"
   ]
  },
  {
   "cell_type": "code",
   "execution_count": 80,
   "id": "c88b9e7b",
   "metadata": {},
   "outputs": [],
   "source": [
    "uniq_genotypes = set(list(df[\"table\"]))"
   ]
  },
  {
   "cell_type": "code",
   "execution_count": 83,
   "id": "1fbd9c46",
   "metadata": {
    "scrolled": false
   },
   "outputs": [
    {
     "name": "stderr",
     "output_type": "stream",
     "text": [
      "\n",
      "[quant] fragment length distribution is truncated gaussian with mean = 90, sd = 1\n",
      "[index] k-mer length: 31\n",
      "[index] number of targets: 40,334\n",
      "[index] number of k-mers: 40,519,216\n",
      "[index] number of equivalence classes: 122,118\n",
      "[quant] running in single-end mode\n",
      "[quant] will process file 1: SRR5910663.fp.fastq.gz\n",
      "[quant] finding pseudoalignments for the reads ... done\n",
      "[quant] processed 10,538,328 reads, 7,031,674 reads pseudoaligned\n",
      "[   em] quantifying the abundances ... done\n",
      "[   em] the Expectation-Maximization algorithm ran for 846 rounds\n",
      "\n",
      "\n",
      "[quant] fragment length distribution is truncated gaussian with mean = 90, sd = 1\n",
      "[index] k-mer length: 31\n",
      "[index] number of targets: 40,334\n",
      "[index] number of k-mers: 40,519,216\n",
      "[index] number of equivalence classes: 122,118\n",
      "[quant] running in single-end mode\n",
      "[quant] will process file 1: SRR5910668.fp.fastq.gz\n",
      "[quant] finding pseudoalignments for the reads ... done\n",
      "[quant] processed 4,747,301 reads, 3,214,671 reads pseudoaligned\n",
      "[   em] quantifying the abundances ... done\n",
      "[   em] the Expectation-Maximization algorithm ran for 947 rounds\n",
      "\n"
     ]
    }
   ],
   "source": [
    "folder_list = []\n",
    "for row in df[df[\"index\"]==\"Oh7B\"].iloc[-2:].iterrows():\n",
    "    row = list(row[1])\n",
    "    table, index, treatment, file_name = row[0], row[1], row[3], row[2]\n",
    "    folder_list.append(str(table+\"_\"+index+\"_\"+treatment))\n",
    "    os.system(\"\"\"kallisto quant --single -l 90 -s 1 -t 32 --plaintext \\\n",
    "                 -i Kallisto/{0}.idx -o kallisto_results/{1}_{2}_{3}/ {4}.fp.fastq.gz \"\"\".format(index, table, index, treatment, file_name))"
   ]
  },
  {
   "cell_type": "code",
   "execution_count": 85,
   "id": "c0cc7f6c",
   "metadata": {},
   "outputs": [],
   "source": [
    "first = True\n",
    "col_list = []\n",
    "for fl in folder_list:\n",
    "    fls = fl.split(\"_\")\n",
    "    if fls[0] == fls[1]:\n",
    "        col_list.append(fls[2])\n",
    "    else:\n",
    "        col_list.append(fls[1]+\"_\"+fls[2])\n",
    "    if first:\n",
    "        tpm = pd.read_csv(\"kallisto_results/\"+fl+\"/abundance.tsv\", sep=\"\\t\", header=0, index_col=0)[\"tpm\"]\n",
    "        first = False\n",
    "    else:\n",
    "        tpm = pd.merge(tpm, \n",
    "                   pd.read_csv(\"kallisto_results/\"+fl+\"/abundance.tsv\", sep=\"\\t\", header=0, index_col=0)[\"tpm\"], \n",
    "                   left_index=True, right_index=True)\n",
    "tpm.columns = col_list\n",
    "tpm.to_csv(\"TPM_tables/\"+fls[0]+\".tpm.tsv\", sep=\"\\t\")"
   ]
  }
 ],
 "metadata": {
  "kernelspec": {
   "display_name": "Python 3 (ipykernel)",
   "language": "python",
   "name": "python3"
  },
  "language_info": {
   "codemirror_mode": {
    "name": "ipython",
    "version": 3
   },
   "file_extension": ".py",
   "mimetype": "text/x-python",
   "name": "python",
   "nbconvert_exporter": "python",
   "pygments_lexer": "ipython3",
   "version": "3.9.7"
  }
 },
 "nbformat": 4,
 "nbformat_minor": 5
}
