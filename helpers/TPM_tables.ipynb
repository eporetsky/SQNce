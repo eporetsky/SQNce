{
 "cells": [
  {
   "cell_type": "code",
   "execution_count": null,
   "id": "459a5e9e",
   "metadata": {},
   "outputs": [],
   "source": [
    "# NOTES\n",
    "# Removed Il14H\tIl14H\tSRR5911768\tKern\n",
    "# Removed CML52\tCML52\tSRR5911880\tShoot"
   ]
  },
  {
   "cell_type": "code",
   "execution_count": 1,
   "id": "5e45aec5",
   "metadata": {},
   "outputs": [],
   "source": [
    "import os\n",
    "import pandas as pd"
   ]
  },
  {
   "cell_type": "markdown",
   "id": "1d774ec7",
   "metadata": {},
   "source": [
    "# Transcriptomic analysis of 3' RNA-seq data"
   ]
  },
  {
   "cell_type": "markdown",
   "id": "5360d504",
   "metadata": {},
   "source": [
    "The trannscriptomic 'cDNA' files produced for this analysis are based on:\\\n",
    "https://github.com/eporetsky/bioinformatics-assortment/blob/master/RNAseq/3prime/fast3p_extender.ipynb \\\n",
    "\n",
    "Briefly, I used the primary/canonical transcript GFF3 file to get the coordinates for the CDS and UTRs.\\\n",
    "For the 3' UTRs, the originals were kept as is unless they were shorter than 500bp, then they were\\\n",
    "extended to 500bp. The original/extended UTRs were combined with the last 500bp of the CDS sequence\\\n",
    "to generate the final transcript file that was used to generate an index file.\\\n",
    "I did not take into account overlapping extensions with genes. I might consider this in the future\\\n",
    "but if the 3' UTR of your gene of interest is very close to the 3' UTR of another gene (<1000bp)\\\n",
    "the interpretation might be wrong. I might provide some Kallisto pseudobams to assess results.\n",
    "\n",
    "There are other tools that might provide more accurate results (https://github.com/ctlab/quant3p) \\\n",
    "but the following analysis was meant to keep methods simple, customizable and easily repeatable."
   ]
  },
  {
   "cell_type": "code",
   "execution_count": 85,
   "id": "f2dbb7ba",
   "metadata": {},
   "outputs": [
    {
     "data": {
      "text/html": [
       "<div>\n",
       "<style scoped>\n",
       "    .dataframe tbody tr th:only-of-type {\n",
       "        vertical-align: middle;\n",
       "    }\n",
       "\n",
       "    .dataframe tbody tr th {\n",
       "        vertical-align: top;\n",
       "    }\n",
       "\n",
       "    .dataframe thead th {\n",
       "        text-align: right;\n",
       "    }\n",
       "</style>\n",
       "<table border=\"1\" class=\"dataframe\">\n",
       "  <thead>\n",
       "    <tr style=\"text-align: right;\">\n",
       "      <th></th>\n",
       "      <th>table</th>\n",
       "      <th>index</th>\n",
       "      <th>run_accession</th>\n",
       "      <th>Renamed</th>\n",
       "    </tr>\n",
       "  </thead>\n",
       "  <tbody>\n",
       "    <tr>\n",
       "      <th>0</th>\n",
       "      <td>B73v4</td>\n",
       "      <td>B73v4</td>\n",
       "      <td>SRR5909740</td>\n",
       "      <td>Root</td>\n",
       "    </tr>\n",
       "    <tr>\n",
       "      <th>1</th>\n",
       "      <td>B73v4</td>\n",
       "      <td>B73v4</td>\n",
       "      <td>SRR5909736</td>\n",
       "      <td>Shoot</td>\n",
       "    </tr>\n",
       "    <tr>\n",
       "      <th>2</th>\n",
       "      <td>B73v4</td>\n",
       "      <td>B73v4</td>\n",
       "      <td>SRR5909632</td>\n",
       "      <td>Kern</td>\n",
       "    </tr>\n",
       "    <tr>\n",
       "      <th>3</th>\n",
       "      <td>B73v4</td>\n",
       "      <td>B73v4</td>\n",
       "      <td>SRR5909706</td>\n",
       "      <td>Base</td>\n",
       "    </tr>\n",
       "    <tr>\n",
       "      <th>4</th>\n",
       "      <td>B73v4</td>\n",
       "      <td>B73v4</td>\n",
       "      <td>SRR5909674</td>\n",
       "      <td>Tip</td>\n",
       "    </tr>\n",
       "  </tbody>\n",
       "</table>\n",
       "</div>"
      ],
      "text/plain": [
       "   table  index run_accession Renamed\n",
       "0  B73v4  B73v4    SRR5909740    Root\n",
       "1  B73v4  B73v4    SRR5909736   Shoot\n",
       "2  B73v4  B73v4    SRR5909632    Kern\n",
       "3  B73v4  B73v4    SRR5909706    Base\n",
       "4  B73v4  B73v4    SRR5909674     Tip"
      ]
     },
     "execution_count": 85,
     "metadata": {},
     "output_type": "execute_result"
    }
   ],
   "source": [
    "df = pd.read_csv(\"Kallisto_names.txt\", header=0, sep=\"\\t\")\n",
    "df.head()"
   ]
  },
  {
   "cell_type": "code",
   "execution_count": 10,
   "id": "1fbd9c46",
   "metadata": {
    "scrolled": false
   },
   "outputs": [
    {
     "name": "stderr",
     "output_type": "stream",
     "text": [
      "\n",
      "[quant] fragment length distribution is truncated gaussian with mean = 90, sd = 1\n",
      "[index] k-mer length: 31\n",
      "[index] number of targets: 40,013\n",
      "[index] number of k-mers: 40,291,562\n",
      "[index] number of equivalence classes: 122,917\n",
      "[quant] running in single-end mode\n",
      "[quant] will process file 1: SRR5911415.fp.fastq.gz\n",
      "[quant] finding pseudoalignments for the reads ... done\n",
      "[quant] processed 4,041,021 reads, 3,197,124 reads pseudoaligned\n",
      "[   em] quantifying the abundances ... done\n",
      "[   em] the Expectation-Maximization algorithm ran for 553 rounds\n",
      "\n",
      "\n",
      "[quant] fragment length distribution is truncated gaussian with mean = 90, sd = 1\n",
      "[index] k-mer length: 31\n",
      "[index] number of targets: 40,013\n",
      "[index] number of k-mers: 40,291,562\n",
      "[index] number of equivalence classes: 122,917\n",
      "[quant] running in single-end mode\n",
      "[quant] will process file 1: SRR5911414.fp.fastq.gz\n",
      "[quant] finding pseudoalignments for the reads ... done\n",
      "[quant] processed 4,784,000 reads, 3,807,933 reads pseudoaligned\n",
      "[   em] quantifying the abundances ... done\n",
      "[   em] the Expectation-Maximization algorithm ran for 997 rounds\n",
      "\n",
      "\n",
      "[quant] fragment length distribution is truncated gaussian with mean = 90, sd = 1\n",
      "[index] k-mer length: 31\n",
      "[index] number of targets: 40,013\n",
      "[index] number of k-mers: 40,291,562\n",
      "[index] number of equivalence classes: 122,917\n",
      "[quant] running in single-end mode\n",
      "[quant] will process file 1: SRR5911410.fp.fastq.gz\n",
      "[quant] finding pseudoalignments for the reads ... done\n",
      "[quant] processed 5,322,033 reads, 3,763,819 reads pseudoaligned\n",
      "[   em] quantifying the abundances ... done\n",
      "[   em] the Expectation-Maximization algorithm ran for 929 rounds\n",
      "\n",
      "\n",
      "[quant] fragment length distribution is truncated gaussian with mean = 90, sd = 1\n",
      "[index] k-mer length: 31\n",
      "[index] number of targets: 40,013\n",
      "[index] number of k-mers: 40,291,562\n",
      "[index] number of equivalence classes: 122,917\n",
      "[quant] running in single-end mode\n",
      "[quant] will process file 1: SRR5911413.fp.fastq.gz\n",
      "[quant] finding pseudoalignments for the reads ... done\n",
      "[quant] processed 6,274,713 reads, 4,499,345 reads pseudoaligned\n",
      "[   em] quantifying the abundances ... done\n",
      "[   em] the Expectation-Maximization algorithm ran for 857 rounds\n",
      "\n",
      "\n",
      "[quant] fragment length distribution is truncated gaussian with mean = 90, sd = 1\n",
      "[index] k-mer length: 31\n",
      "[index] number of targets: 40,013\n",
      "[index] number of k-mers: 40,291,562\n",
      "[index] number of equivalence classes: 122,917\n",
      "[quant] running in single-end mode\n",
      "[quant] will process file 1: SRR5911412.fp.fastq.gz\n",
      "[quant] finding pseudoalignments for the reads ... done\n",
      "[quant] processed 7,870,960 reads, 4,145,005 reads pseudoaligned\n",
      "[   em] quantifying the abundances ... done\n",
      "[   em] the Expectation-Maximization algorithm ran for 1,041 rounds\n",
      "\n",
      "\n",
      "[quant] fragment length distribution is truncated gaussian with mean = 90, sd = 1\n",
      "[index] k-mer length: 31\n",
      "[index] number of targets: 40,013\n",
      "[index] number of k-mers: 40,291,562\n",
      "[index] number of equivalence classes: 122,917\n",
      "[quant] running in single-end mode\n",
      "[quant] will process file 1: SRR5911327.fp.fastq.gz\n",
      "[quant] finding pseudoalignments for the reads ... done\n",
      "[quant] processed 6,548,908 reads, 4,145,766 reads pseudoaligned\n",
      "[   em] quantifying the abundances ... done\n",
      "[   em] the Expectation-Maximization algorithm ran for 951 rounds\n",
      "\n",
      "\n",
      "[quant] fragment length distribution is truncated gaussian with mean = 90, sd = 1\n",
      "[index] k-mer length: 31\n",
      "[index] number of targets: 40,013\n",
      "[index] number of k-mers: 40,291,562\n",
      "[index] number of equivalence classes: 122,917\n",
      "[quant] running in single-end mode\n",
      "[quant] will process file 1: SRR5911326.fp.fastq.gz\n",
      "[quant] finding pseudoalignments for the reads ... done\n",
      "[quant] processed 5,370,791 reads, 3,437,231 reads pseudoaligned\n",
      "[   em] quantifying the abundances ... done\n",
      "[   em] the Expectation-Maximization algorithm ran for 1,001 rounds\n",
      "\n"
     ]
    }
   ],
   "source": [
    "# Iterate over every row of the df and run kallisto for each row\n",
    "# The output folder names will contain all the information to build final tables\n",
    "# For now each folder is named as: table name, index name and condition name\n",
    "# In the future my replace index name with column name and use index name internally\n",
    "#for row in df.iterrows():\n",
    "for row in df[df[\"table\"]==\"CML103\"].iterrows():\n",
    "    row = list(row[1])\n",
    "    table, index, treatment, file_name = row[0], row[1], row[3], row[2]\n",
    "    os.system(\"\"\"kallisto quant --single -l 90 -s 1 -t 32 --plaintext \\\n",
    "                 -i Kallisto/{0}.idx -o kallisto_results/{1}_{2}_{3}/ {4}.fp.fastq.gz \"\"\".format(index, table, index, treatment, file_name))"
   ]
  },
  {
   "cell_type": "code",
   "execution_count": 62,
   "id": "5e6e7ba2",
   "metadata": {},
   "outputs": [
    {
     "data": {
      "text/plain": [
       "['HP301',\n",
       " 'Oh43',\n",
       " 'Ms71',\n",
       " 'NC350',\n",
       " 'CML322',\n",
       " 'Ki11',\n",
       " 'Ki3',\n",
       " 'P39',\n",
       " 'Tx303',\n",
       " 'B73',\n",
       " 'M37W',\n",
       " 'CML103',\n",
       " 'CML333',\n",
       " 'W22',\n",
       " 'Oh7B',\n",
       " 'Ky21',\n",
       " 'NC358',\n",
       " 'B73v4',\n",
       " 'CML247',\n",
       " 'M162W',\n",
       " 'CML228',\n",
       " 'B97',\n",
       " 'CML277',\n",
       " 'CML69']"
      ]
     },
     "execution_count": 62,
     "metadata": {},
     "output_type": "execute_result"
    }
   ],
   "source": []
  },
  {
   "cell_type": "code",
   "execution_count": 92,
   "id": "c8f39ec7",
   "metadata": {},
   "outputs": [],
   "source": [
    "NAM_list = ['B73', 'Il14H','HP301','Oh43','Ms71','NC350','CML322','Ki11','Ki3','P39','Tx303','CML52','M37W','CML103','CML333','Oh7B','Ky21','NC358','B73v4','CML247','M162W', 'CML228', 'B97','CML277','CML69']"
   ]
  },
  {
   "cell_type": "code",
   "execution_count": 93,
   "id": "c0cc7f6c",
   "metadata": {},
   "outputs": [
    {
     "name": "stderr",
     "output_type": "stream",
     "text": [
      "/tmp/ipykernel_94319/3620642239.py:35: FutureWarning: Passing 'suffixes' which cause duplicate columns {'tpm_x'} in the result is deprecated and will raise a MergeError in a future version.\n",
      "  tpm = pd.merge(tpm,\n"
     ]
    }
   ],
   "source": [
    "# The tsv file contains the pre-defined table names\n",
    "# Iterate over the unique table names and find them in the Kallisto output folder names\n",
    "# Use folder name list and if table name is not in folder list item skip to next folder\n",
    "# Start with iterating over unique table names because it is easier to build dataframe\n",
    "complete_df = pd.DataFrame()\n",
    "output_folders = os.listdir('kallisto_results')\n",
    "#for table in set(list(df[\"table\"])):\n",
    "for table in NAM_list:\n",
    "#for table in set(list(df[\"table\"])):\n",
    "    first = True # Build a dataframe using only the first dataset. All others will merge to this\n",
    "    col_list = [] # After all results are merged, rename the columns\n",
    "\n",
    "    # Iterate over all the folders in the Kallisto output list\n",
    "    for folder_name in output_folders:\n",
    "        \n",
    "        # The first part of the folder name is the table name. I\n",
    "        fname = folder_name.split(\"_\")\n",
    "        if fname[0] != table:\n",
    "            continue\n",
    "        \n",
    "        # If first part of folder name matches table name then merge results \n",
    "        \n",
    "        # Might change this scheme but for now if table and index name are equal then don't include the \n",
    "        # genotype in the final column name. Will probably add explicit column name in the future\n",
    "        if fname[0] == fname[1]:\n",
    "            col_list.append(fname[2])\n",
    "        else:\n",
    "            col_list.append(fname[1]+\"_\"+fname[2])\n",
    "        \n",
    "        # If \n",
    "        if first:\n",
    "            tpm = pd.read_csv(\"kallisto_results/\"+folder_name+\"/abundance.tsv\", sep=\"\\t\", header=0, index_col=0)[\"tpm\"]\n",
    "            first = False\n",
    "        else:\n",
    "            tpm = pd.merge(tpm, \n",
    "                       pd.read_csv(\"kallisto_results/\"+folder_name+\"/abundance.tsv\", sep=\"\\t\", header=0, index_col=0)[\"tpm\"], \n",
    "                       left_index=True, right_index=True)\n",
    "    tpm.columns = col_list\n",
    "    tpm.to_csv(\"TPM_tables/\"+table+\".tpm.tsv\", sep=\"\\t\")\n",
    "    complete_df = pd.concat([complete_df, tpm]) \n"
   ]
  },
  {
   "cell_type": "code",
   "execution_count": 98,
   "id": "b6c2ac1c",
   "metadata": {},
   "outputs": [],
   "source": [
    "complete_df.drop(0, axis=1).to_csv(\"TPM_tables/PanNAM.tpm.tsv\", sep=\"\\t\")"
   ]
  }
 ],
 "metadata": {
  "kernelspec": {
   "display_name": "Python 3 (ipykernel)",
   "language": "python",
   "name": "python3"
  },
  "language_info": {
   "codemirror_mode": {
    "name": "ipython",
    "version": 3
   },
   "file_extension": ".py",
   "mimetype": "text/x-python",
   "name": "python",
   "nbconvert_exporter": "python",
   "pygments_lexer": "ipython3",
   "version": "3.9.7"
  }
 },
 "nbformat": 4,
 "nbformat_minor": 5
}
