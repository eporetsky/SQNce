{
 "cells": [
  {
   "cell_type": "code",
   "execution_count": 2,
   "id": "comic-belly",
   "metadata": {},
   "outputs": [],
   "source": [
    "import pandas as pd\n",
    "import gzip\n",
    "import sys\n",
    "from Bio import SeqIO"
   ]
  },
  {
   "cell_type": "code",
   "execution_count": 4,
   "id": "ceramic-characteristic",
   "metadata": {},
   "outputs": [
    {
     "name": "stdout",
     "output_type": "stream",
     "text": [
      "Arabidopsis Athaliana_167_TAIR10.fa.gz Athaliana_167_TAIR10.gene.gff3.gz 1000 Athaliana_167\n",
      "Maize Zmays_493_APGv4.fa.gz Zmays_493_RefGen_V4.gene.gff3.gz 1000 Zmays_493_APGv4\n"
     ]
    },
    {
     "name": "stderr",
     "output_type": "stream",
     "text": [
      "C:\\Users\\SagerFish\\miniconda3\\lib\\site-packages\\IPython\\core\\interactiveshell.py:3347: DtypeWarning: Columns (0) have mixed types.Specify dtype option on import or set low_memory=False.\n",
      "  if (await self.run_code(code, result,  async_=asy)):\n"
     ]
    },
    {
     "name": "stdout",
     "output_type": "stream",
     "text": [
      "Sorghum Sbicolor_454_v3.0.1.fa.gz Sbicolor_454_v3.1.1.gene.gff3.gz 1000 Sbicolor_454_v3.0.1\n"
     ]
    }
   ],
   "source": [
    "file_names = pd.read_csv(\"init/promoters.tsv\", sep=\"\\t\", header=0)\n",
    "\n",
    "# Test just the first 100 lines un the GFF3 files\n",
    "for index, row in file_names.iterrows():\n",
    "    # Should add a line to delete a file if already exists\n",
    "    genotype = row[0]\n",
    "    source   = row[1]\n",
    "    fasta    = row[2]\n",
    "    gff3     = row[3]\n",
    "    size     = row[4]\n",
    "    output   = row[5]\n",
    "    print(genotype, fasta, gff3, size, output)\n",
    "    promoter_parser(genotype, fasta, gff3, size, output)"
   ]
  },
  {
   "cell_type": "code",
   "execution_count": 3,
   "id": "directed-academy",
   "metadata": {},
   "outputs": [],
   "source": [
    "# Read the GFF file that contains the gene IDs in the 8th column\n",
    "# Find the transcription start site (ATG) for each gene.\n",
    "# Based on phytozome GFF3 files. Adjustments to be made for other sources\n",
    "# Assumes row are ordered: gene > mRNA > CDS\n",
    "# Assumes CDS are ordered for both fwd and rev genes and 1st CDS is ATG\n",
    "\n",
    "# This works but I am going to load the fasta as a dictionary for preformance\n",
    "def promoter_extractor(genotype, gene_id, seq, start, strand, size, kind, output):\n",
    "    inbred_name = genotype\n",
    "    \n",
    "    if strand == \"+\":\n",
    "        seq = seq[start-size:start+2]\n",
    "    if strand == \"-\":\n",
    "        # I need to reverse complement this\n",
    "        seq = seq[start-3:start+size].reverse_complement()\n",
    "    \n",
    "    # test that the last 3 base-pairs are the correctly the start codon\n",
    "    #if seq[-3:] != \"ATG\" and seq[-3:] != \"atg\":\n",
    "        #print(\"Start codon not present at the end of the promoter:\", gene_id, seq[-3:])\n",
    "\n",
    "    # remove the start-codon\n",
    "    seq = seq[:-3]\n",
    "                \n",
    "    \n",
    "    with gzip.open(\"inputs/promoters/\"+output+\"_1kb_\"+kind+\".fasta.gz\", 'a') as output:\n",
    "        # A bytes-like object is required, not str\n",
    "        output.write(('>'+gene_id+'\\n').encode())\n",
    "        output.write((str(seq)+'\\n').encode())\n",
    "\n",
    "\n",
    "def promoter_parser(genotype, fasta, gff, size, output):\n",
    "    \n",
    "    with gzip.open(\"inputs/genomes/\"+fasta, \"rt\") as handle:\n",
    "        # rec.id can take different formats (Chr1, chr1...) and if just 1 convert to str\n",
    "        seq_dict = {str(rec.id) : rec.seq for rec in SeqIO.parse(handle, \"fasta\")}\n",
    "    \n",
    "    gff = pd.read_csv(\"inputs/gff3/\"+gff, sep=\"\\t\", header=None, compression='gzip', comment='#')\n",
    "    gff = gff[gff[2].isin([\"gene\", \"mRNA\", \"CDS\"])]\n",
    "\n",
    "    gene_id = None\n",
    "    longest = None\n",
    "    start   = None\n",
    "    skip_row= True\n",
    "\n",
    "    for index, row in gff.iterrows():\n",
    "    #for index, row in gff.iterrows():\n",
    "        gff3_name = row[8]\n",
    "\n",
    "        if row[2] == \"gene\":\n",
    "            # Every gene should have a longest, if not print message\n",
    "            if skip_row == False:\n",
    "                print(\"No longest for gene:\", gene_id)\n",
    "            \n",
    "            gene_id = gff3_name[gff3_name.find(\"Name=\")+5:].split(\";\")[0]\n",
    "\n",
    "            # Extract 1kb promoter starting from the ATG of the annotation gene\n",
    "            kind = \"TSS\"\n",
    "            \n",
    "            # Get the start coordinates of the gene depending on orientation\n",
    "            if row[6]==\"+\":\n",
    "                start = row[3]\n",
    "            else:\n",
    "                start = [4]\n",
    "            \n",
    "            promoter_extractor(genotype, gene_id, seq_dict[str(row[0])], row[3], row[6], size, kind, output)\n",
    "\n",
    "            skip_row = False\n",
    "\n",
    "        if row[2] == \"mRNA\":\n",
    "            longest = int(gff3_name[gff3_name.find(\"longest\")+8:gff3_name.find(\"longest\")+9])\n",
    "\n",
    "        if skip_row:\n",
    "            continue\n",
    "\n",
    "        if row[2] == \"CDS\" and longest == 1 and row[6]==\"+\":\n",
    "            start = row[3]\n",
    "            skip_row = True\n",
    "            kind = \"ATG\"\n",
    "            promoter_extractor(genotype, gene_id, seq_dict[str(row[0])], start, row[6], size, kind, output)\n",
    "            #print(gene_id, longest, start, row[6])\n",
    "\n",
    "        if row[2] == \"CDS\" and longest == 1 and row[6]==\"-\":\n",
    "            start = row[4]\n",
    "            skip_row = True\n",
    "            kind = \"ATG\"\n",
    "            promoter_extractor(genotype, gene_id, seq_dict[str(row[0])], start, row[6], size, kind, output)\n",
    "            #print(gene_id, longest, start, row[6])  "
   ]
  }
 ],
 "metadata": {
  "kernelspec": {
   "display_name": "Python 3",
   "language": "python",
   "name": "python3"
  },
  "language_info": {
   "codemirror_mode": {
    "name": "ipython",
    "version": 3
   },
   "file_extension": ".py",
   "mimetype": "text/x-python",
   "name": "python",
   "nbconvert_exporter": "python",
   "pygments_lexer": "ipython3",
   "version": "3.8.5"
  }
 },
 "nbformat": 4,
 "nbformat_minor": 5
}
