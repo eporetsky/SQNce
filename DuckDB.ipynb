{
 "cells": [
  {
   "cell_type": "code",
   "execution_count": 1,
   "id": "d13b8746",
   "metadata": {},
   "outputs": [],
   "source": [
    "import duckdb"
   ]
  },
  {
   "cell_type": "code",
   "execution_count": 2,
   "id": "08aaf036",
   "metadata": {},
   "outputs": [],
   "source": [
    "con = duckdb.connect(database='SQNce.duckdb', read_only=False)\n",
    "# con.close()"
   ]
  },
  {
   "cell_type": "code",
   "execution_count": 3,
   "id": "ee144f7e",
   "metadata": {},
   "outputs": [
    {
     "data": {
      "text/plain": [
       "<duckdb.DuckDBPyConnection at 0x7fb3f87518f0>"
      ]
     },
     "execution_count": 3,
     "metadata": {},
     "output_type": "execute_result"
    }
   ],
   "source": [
    "con.execute(\"\"\"CREATE TABLE PanNAM AS SELECT * FROM read_csv_auto('PanNAM.tpm.tsv') ;\"\"\")"
   ]
  },
  {
   "cell_type": "code",
   "execution_count": 4,
   "id": "1b9cf9d1",
   "metadata": {},
   "outputs": [
    {
     "data": {
      "text/plain": [
       "<duckdb.DuckDBPyConnection at 0x7fb3f87518f0>"
      ]
     },
     "execution_count": 4,
     "metadata": {},
     "output_type": "execute_result"
    }
   ],
   "source": [
    "con.execute(\"\"\"CREATE UNIQUE INDEX PanNAM_genes ON PanNAM (target_id);\"\"\")"
   ]
  },
  {
   "cell_type": "code",
   "execution_count": 5,
   "id": "19292bce",
   "metadata": {},
   "outputs": [
    {
     "data": {
      "text/html": [
       "<div>\n",
       "<style scoped>\n",
       "    .dataframe tbody tr th:only-of-type {\n",
       "        vertical-align: middle;\n",
       "    }\n",
       "\n",
       "    .dataframe tbody tr th {\n",
       "        vertical-align: top;\n",
       "    }\n",
       "\n",
       "    .dataframe thead th {\n",
       "        text-align: right;\n",
       "    }\n",
       "</style>\n",
       "<table border=\"1\" class=\"dataframe\">\n",
       "  <thead>\n",
       "    <tr style=\"text-align: right;\">\n",
       "      <th></th>\n",
       "      <th>name</th>\n",
       "    </tr>\n",
       "  </thead>\n",
       "  <tbody>\n",
       "    <tr>\n",
       "      <th>0</th>\n",
       "      <td>pannam</td>\n",
       "    </tr>\n",
       "    <tr>\n",
       "      <th>1</th>\n",
       "      <td>pannam_genes</td>\n",
       "    </tr>\n",
       "  </tbody>\n",
       "</table>\n",
       "</div>"
      ],
      "text/plain": [
       "           name\n",
       "0        pannam\n",
       "1  pannam_genes"
      ]
     },
     "execution_count": 5,
     "metadata": {},
     "output_type": "execute_result"
    }
   ],
   "source": [
    "con.execute(\"SHOW TABLES\").df()"
   ]
  },
  {
   "cell_type": "code",
   "execution_count": 6,
   "id": "b15db706",
   "metadata": {},
   "outputs": [
    {
     "data": {
      "text/html": [
       "<div>\n",
       "<style scoped>\n",
       "    .dataframe tbody tr th:only-of-type {\n",
       "        vertical-align: middle;\n",
       "    }\n",
       "\n",
       "    .dataframe tbody tr th {\n",
       "        vertical-align: top;\n",
       "    }\n",
       "\n",
       "    .dataframe thead th {\n",
       "        text-align: right;\n",
       "    }\n",
       "</style>\n",
       "<table border=\"1\" class=\"dataframe\">\n",
       "  <thead>\n",
       "    <tr style=\"text-align: right;\">\n",
       "      <th></th>\n",
       "      <th>Field</th>\n",
       "      <th>Type</th>\n",
       "      <th>Null</th>\n",
       "      <th>Key</th>\n",
       "      <th>Default</th>\n",
       "      <th>Extra</th>\n",
       "    </tr>\n",
       "  </thead>\n",
       "  <tbody>\n",
       "    <tr>\n",
       "      <th>0</th>\n",
       "      <td>target_id</td>\n",
       "      <td>VARCHAR</td>\n",
       "      <td>YES</td>\n",
       "      <td>NaN</td>\n",
       "      <td>NaN</td>\n",
       "      <td>NaN</td>\n",
       "    </tr>\n",
       "    <tr>\n",
       "      <th>1</th>\n",
       "      <td>Base</td>\n",
       "      <td>DOUBLE</td>\n",
       "      <td>YES</td>\n",
       "      <td>NaN</td>\n",
       "      <td>NaN</td>\n",
       "      <td>NaN</td>\n",
       "    </tr>\n",
       "    <tr>\n",
       "      <th>2</th>\n",
       "      <td>Day</td>\n",
       "      <td>DOUBLE</td>\n",
       "      <td>YES</td>\n",
       "      <td>NaN</td>\n",
       "      <td>NaN</td>\n",
       "      <td>NaN</td>\n",
       "    </tr>\n",
       "    <tr>\n",
       "      <th>3</th>\n",
       "      <td>Kern</td>\n",
       "      <td>DOUBLE</td>\n",
       "      <td>YES</td>\n",
       "      <td>NaN</td>\n",
       "      <td>NaN</td>\n",
       "      <td>NaN</td>\n",
       "    </tr>\n",
       "    <tr>\n",
       "      <th>4</th>\n",
       "      <td>Mid</td>\n",
       "      <td>DOUBLE</td>\n",
       "      <td>YES</td>\n",
       "      <td>NaN</td>\n",
       "      <td>NaN</td>\n",
       "      <td>NaN</td>\n",
       "    </tr>\n",
       "    <tr>\n",
       "      <th>5</th>\n",
       "      <td>Night</td>\n",
       "      <td>DOUBLE</td>\n",
       "      <td>YES</td>\n",
       "      <td>NaN</td>\n",
       "      <td>NaN</td>\n",
       "      <td>NaN</td>\n",
       "    </tr>\n",
       "    <tr>\n",
       "      <th>6</th>\n",
       "      <td>Root</td>\n",
       "      <td>DOUBLE</td>\n",
       "      <td>YES</td>\n",
       "      <td>NaN</td>\n",
       "      <td>NaN</td>\n",
       "      <td>NaN</td>\n",
       "    </tr>\n",
       "    <tr>\n",
       "      <th>7</th>\n",
       "      <td>Shoot</td>\n",
       "      <td>DOUBLE</td>\n",
       "      <td>YES</td>\n",
       "      <td>NaN</td>\n",
       "      <td>NaN</td>\n",
       "      <td>NaN</td>\n",
       "    </tr>\n",
       "    <tr>\n",
       "      <th>8</th>\n",
       "      <td>Tip</td>\n",
       "      <td>DOUBLE</td>\n",
       "      <td>YES</td>\n",
       "      <td>NaN</td>\n",
       "      <td>NaN</td>\n",
       "      <td>NaN</td>\n",
       "    </tr>\n",
       "  </tbody>\n",
       "</table>\n",
       "</div>"
      ],
      "text/plain": [
       "       Field     Type Null  Key Default  Extra\n",
       "0  target_id  VARCHAR  YES  NaN     NaN    NaN\n",
       "1       Base   DOUBLE  YES  NaN     NaN    NaN\n",
       "2        Day   DOUBLE  YES  NaN     NaN    NaN\n",
       "3       Kern   DOUBLE  YES  NaN     NaN    NaN\n",
       "4        Mid   DOUBLE  YES  NaN     NaN    NaN\n",
       "5      Night   DOUBLE  YES  NaN     NaN    NaN\n",
       "6       Root   DOUBLE  YES  NaN     NaN    NaN\n",
       "7      Shoot   DOUBLE  YES  NaN     NaN    NaN\n",
       "8        Tip   DOUBLE  YES  NaN     NaN    NaN"
      ]
     },
     "execution_count": 6,
     "metadata": {},
     "output_type": "execute_result"
    }
   ],
   "source": [
    "con.execute(\"DESCRIBE pannam\").df()"
   ]
  },
  {
   "cell_type": "code",
   "execution_count": 7,
   "id": "8e0dd13d",
   "metadata": {},
   "outputs": [
    {
     "name": "stdout",
     "output_type": "stream",
     "text": [
      "         target_id     Base       Day     Kern  Mid     Night     Root  \\\n",
      "0  Zm00028ab000040  0.00000  0.473012   0.0000  NaN  0.000000   0.0000   \n",
      "1  Zm00038ab000020  7.53956  0.632239  10.5693  NaN  0.915095  21.0367   \n",
      "2  Zm00020ab450520  0.00000  0.000000   0.0000  0.0  0.000000   0.0000   \n",
      "\n",
      "     Shoot       Tip  \n",
      "0   0.0000  0.491702  \n",
      "1  15.7464  0.807023  \n",
      "2   0.0000  0.000000  \n"
     ]
    }
   ],
   "source": [
    "# Read csv file as pandas dataframe\n",
    "df = con.execute(\"\"\"SELECT * FROM PanNAM\n",
    "                    WHERE target_id IN ('Zm00038ab000020','Zm00020ab450520','Zm00028ab000040');\"\"\").fetchdf()\n",
    "print(df)"
   ]
  },
  {
   "cell_type": "code",
   "execution_count": 22,
   "id": "8e524d38",
   "metadata": {},
   "outputs": [
    {
     "name": "stdout",
     "output_type": "stream",
     "text": [
      "         target_id       Day     Night\n",
      "0  Zm00038ab000020  0.632239  0.915095\n"
     ]
    }
   ],
   "source": [
    "# Read csv file as pandas dataframe\n",
    "df = con.execute(\"\"\"SELECT * FROM read_csv_auto('Oh7B.tpm.tsv') WHERE target_id = 'Zm00038ab000020';\"\"\").fetchdf()\n",
    "print(df)"
   ]
  },
  {
   "cell_type": "code",
   "execution_count": 23,
   "id": "45a33942",
   "metadata": {},
   "outputs": [
    {
     "name": "stdout",
     "output_type": "stream",
     "text": [
      "             target_id        Day      Night\n",
      "0      Zm00038ab000010   4.201500   6.081210\n",
      "1      Zm00038ab000020   0.632239   0.915095\n",
      "2      Zm00038ab000030   0.000000   0.000000\n",
      "3      Zm00038ab000040   0.563669   2.753490\n",
      "4      Zm00038ab000050   0.100012   0.217134\n",
      "...                ...        ...        ...\n",
      "40329  Zm00038ab451600   1.231930   3.521770\n",
      "40330  Zm00038ab451610   0.000000   0.000000\n",
      "40331  Zm00038ab451630   0.000000   0.000000\n",
      "40332  Zm00038ab451640  11.978000  10.402100\n",
      "40333  Zm00038ab451680   0.000000   0.000000\n",
      "\n",
      "[40334 rows x 3 columns]\n"
     ]
    }
   ],
   "source": [
    "# Read csv file as pandas dataframe\n",
    "df = con.execute(\"\"\"SELECT * FROM read_csv_auto('Oh7B.tpm.tsv') ;\"\"\").fetchdf()\n",
    "print(df)"
   ]
  },
  {
   "cell_type": "code",
   "execution_count": 36,
   "id": "78488224",
   "metadata": {},
   "outputs": [
    {
     "name": "stdout",
     "output_type": "stream",
     "text": [
      "         target_id       Day     Night\n",
      "0  Zm00038ab000020  0.632239  0.915095\n",
      "1  Zm00038ab451630  0.000000  0.000000\n"
     ]
    }
   ],
   "source": [
    "# Read csv file as pandas dataframe\n",
    "df = con.execute(\"\"\"SELECT * FROM read_csv_auto('Oh7B.tpm.tsv') \n",
    "                    WHERE target_id IN ('Zm00038ab000020','Zm00038ab451630','Zm00020ab450570');\"\"\").fetchdf()\n",
    "print(df)"
   ]
  }
 ],
 "metadata": {
  "kernelspec": {
   "display_name": "Python 3 (ipykernel)",
   "language": "python",
   "name": "python3"
  },
  "language_info": {
   "codemirror_mode": {
    "name": "ipython",
    "version": 3
   },
   "file_extension": ".py",
   "mimetype": "text/x-python",
   "name": "python",
   "nbconvert_exporter": "python",
   "pygments_lexer": "ipython3",
   "version": "3.9.7"
  }
 },
 "nbformat": 4,
 "nbformat_minor": 5
}
